{
 "cells": [
  {
   "cell_type": "markdown",
   "metadata": {},
   "source": [
    "# ------------------------------ `Exercise of Python Part 1` -------------------------------------"
   ]
  },
  {
   "cell_type": "markdown",
   "metadata": {},
   "source": [
    "## `Introduction To Python` "
   ]
  },
  {
   "cell_type": "markdown",
   "metadata": {},
   "source": [
    "### Assignment"
   ]
  },
  {
   "cell_type": "markdown",
   "metadata": {},
   "source": [
    "#### 1. You are given two integers: X and N. You have to calculate X raised to power N and print it."
   ]
  },
  {
   "cell_type": "code",
   "execution_count": null,
   "metadata": {},
   "outputs": [],
   "source": [
    "x = int(input())\n",
    "n = int(input())\n",
    "y = x**n\n",
    "print(y)"
   ]
  },
  {
   "cell_type": "markdown",
   "metadata": {},
   "source": [
    "#### 2. You are given first three entries of an arithmetic progression. You have to calculate the common difference and print it."
   ]
  },
  {
   "cell_type": "code",
   "execution_count": null,
   "metadata": {},
   "outputs": [],
   "source": [
    "a = int(input())\n",
    "b = int(input())\n",
    "c = int(input())\n",
    "d = (c-a) // (3-1)\n",
    "print(d)"
   ]
  },
  {
   "cell_type": "markdown",
   "metadata": {},
   "source": [
    "#### 3. You are given a rectangle in a plane. The corner coordinates of this rectangle is provided to you. You have to print the amount of area of the plane covered by this rectangles.\n",
    "#### The end coordinates are provided as four integral values: x1, y1, x2, y2. It is given that x1 < x2 and y1 < y2."
   ]
  },
  {
   "cell_type": "code",
   "execution_count": null,
   "metadata": {},
   "outputs": [],
   "source": [
    "x1 = int(input())\n",
    "y1 = int(input())\n",
    "x2 = int(input())\n",
    "y2 = int(input())\n",
    "a = (x2-x1) * (y2-y1)\n",
    "print(a)"
   ]
  },
  {
   "cell_type": "markdown",
   "metadata": {},
   "source": [
    "## `Conditionals and Loops`"
   ]
  },
  {
   "cell_type": "markdown",
   "metadata": {},
   "source": [
    "### During lecture"
   ]
  },
  {
   "cell_type": "markdown",
   "metadata": {},
   "source": [
    "#### 1. Given an integer n, find if n is positive, negative or 0.\n",
    "#### If n is positive, print \"Positive\"\n",
    "#### If n is negative, print \"Negative\"\n",
    "#### And if n is equal to 0, print \"Zero\"."
   ]
  },
  {
   "cell_type": "code",
   "execution_count": null,
   "metadata": {},
   "outputs": [],
   "source": [
    "n = int(input())\n",
    "if n > 0:\n",
    "    print(\"Positive\")\n",
    "elif n < 0:\n",
    "    print(\"Negative\")\n",
    "else:\n",
    "    print(\"Zero\")"
   ]
  },
  {
   "cell_type": "markdown",
   "metadata": {},
   "source": [
    "#### 2. Given an integer n, find and print the sum of numbers from 1 to n."
   ]
  },
  {
   "cell_type": "code",
   "execution_count": null,
   "metadata": {},
   "outputs": [],
   "source": [
    "n = int(input())\n",
    "i = 1\n",
    "sum = 0\n",
    "while i <= n:\n",
    "    sum = sum + i\n",
    "    i = i + 1\n",
    "print(sum)"
   ]
  },
  {
   "cell_type": "markdown",
   "metadata": {},
   "source": [
    "#### 3. Given a number N, print sum of all even numbers from 1 to N."
   ]
  },
  {
   "cell_type": "code",
   "execution_count": null,
   "metadata": {},
   "outputs": [],
   "source": [
    "n = int(input())\n",
    "i = 2\n",
    "sum = 0\n",
    "while i <= n:\n",
    "    sum = sum + i\n",
    "    i = i + 2\n",
    "print(sum)"
   ]
  },
  {
   "cell_type": "markdown",
   "metadata": {},
   "source": [
    "#### 4. Given three values - Start Fahrenheit Value (S), End Fahrenheit value (E) and Step Size (W), you need to convert all Fahrenheit values from Start to End at the gap of W, into their corresponding Celsius values and print the table."
   ]
  },
  {
   "cell_type": "code",
   "execution_count": null,
   "metadata": {},
   "outputs": [],
   "source": [
    "s = int(input())\n",
    "e = int(input())\n",
    "w = int(input())\n",
    "\n",
    "i = s\n",
    "\n",
    "while i <= e:\n",
    "    c = 5/9 * (i-32)\n",
    "    print(i, \" \", int(c))\n",
    "    i = i + w"
   ]
  },
  {
   "cell_type": "markdown",
   "metadata": {},
   "source": [
    "### Assignment"
   ]
  },
  {
   "cell_type": "markdown",
   "metadata": {},
   "source": [
    "#### 1. Write a program that works as a simple calculator. It reads an integer for choice.\n",
    "1. If the choice is 1, 2 integers are taken for input and their sum is printed.\n",
    "2. If the choice is 2, 2 integers are taken for input and their difference is printed.\n",
    "3. If  the choice is 3, 2 integers are taken for input and their product is printed.\n",
    "4. If  the choice is 4, 2 integers are taken for input and their quotient is printed.\n",
    "5. If  the choice is 5, 2 integers are taken for input and their remainder is printed.\n",
    "6. If the choice is 6, the program exits, \n",
    "\n",
    "For any other choice, print \"Invalid Operation\" and ask for choice again.\n",
    "Note: Each answer in next line."
   ]
  },
  {
   "cell_type": "code",
   "execution_count": null,
   "metadata": {},
   "outputs": [],
   "source": [
    "i = 1\n",
    "while i==1:\n",
    "    ch = int(input())\n",
    "    if ch==1:\n",
    "        i1 = int(input())\n",
    "        i2 = int(input())\n",
    "        sum = i1 + i2\n",
    "        print(sum)\n",
    "    elif ch==2:\n",
    "        i1 = int(input())\n",
    "        i2 = int(input())\n",
    "        dif = i1 - i2\n",
    "        print(dif)\n",
    "    elif ch==3:\n",
    "        i1 = int(input())\n",
    "        i2 = int(input())\n",
    "        mul = i1 * i2\n",
    "        print(mul)\n",
    "    elif ch==4:\n",
    "        i1 = int(input())\n",
    "        i2 = int(input())\n",
    "        div = i1 // i2\n",
    "        print(div)\n",
    "    elif ch==5:\n",
    "        i1 = int(input())\n",
    "        i2 = int(input())\n",
    "        rem = i1 % i2\n",
    "        print(rem)\n",
    "    elif ch==6:\n",
    "        i = 0\n",
    "    else:\n",
    "        print(\"Invalid Operation\")"
   ]
  },
  {
   "cell_type": "markdown",
   "metadata": {},
   "source": [
    "#### 2. Write a program to generate the reverse of a given number N. Print the corresponding reverse number."
   ]
  },
  {
   "cell_type": "code",
   "execution_count": null,
   "metadata": {},
   "outputs": [],
   "source": [
    "num = int(input())    \n",
    "rev = 0\n",
    "while(num > 0):    \n",
    "    Rem = num %10    \n",
    "    rev = (rev *10) + Rem    \n",
    "    num = num //10\n",
    "print(rev)"
   ]
  },
  {
   "cell_type": "markdown",
   "metadata": {},
   "source": [
    "#### 3. Write a program to determine if given number is palindrome or not. Print true if it is palindrome, false otherwise.\n",
    "\" Palindrome are the numbers for which reverse is exactly same as the original one. For eg. 121 \""
   ]
  },
  {
   "cell_type": "code",
   "execution_count": null,
   "metadata": {},
   "outputs": [],
   "source": [
    "num = int(input())    \n",
    "rev = 0\n",
    "ispalindorme = num\n",
    "while(num > 0):    \n",
    "    Rem = num %10    \n",
    "    rev = (rev *10) + Rem    \n",
    "    num = num //10\n",
    "if(rev == ispalindorme):\n",
    "    print('true')\n",
    "else:\n",
    "    print('false')"
   ]
  },
  {
   "cell_type": "markdown",
   "metadata": {},
   "source": [
    "#### 4. Write a program to input an integer N and print the sum of all its even digits and sum of all its odd digits separately.\n",
    "\" Digits means numbers not the places. That is, if the given integer is \"13245\", even digits are 2 & 4 and odd digits are 1, 3 & 5. \""
   ]
  },
  {
   "cell_type": "code",
   "execution_count": null,
   "metadata": {},
   "outputs": [],
   "source": [
    "num = int(input())\n",
    "sum_even = 0\n",
    "sum_odd = 0\n",
    "while num > 0:\n",
    "    i = num % 10\n",
    "    if i % 2  == 0:\n",
    "        sum_even = sum_even + i\n",
    "    else:\n",
    "        sum_odd = sum_odd + i\n",
    "    num = num//10\n",
    "print(sum_even,\" \",sum_odd)"
   ]
  },
  {
   "cell_type": "markdown",
   "metadata": {},
   "source": [
    "#### 5. Nth term of fibonacci series F(n) is calculated using following formula -\n",
    "    F(n) = F(n-1) + F(n-2), \n",
    "Provided N you have to find out the Nth Fibonacci Number. Also F(1) = F(2) = 1."
   ]
  },
  {
   "cell_type": "code",
   "execution_count": null,
   "metadata": {},
   "outputs": [],
   "source": [
    "n= int(input())\n",
    "a=-1\n",
    "b=1\n",
    "while n-2:\n",
    "    c=a+b\n",
    "    a=b\n",
    "    b=c\n",
    "    n=n-1\n",
    "    print(c)\n",
    "    "
   ]
  },
  {
   "cell_type": "code",
   "execution_count": null,
   "metadata": {},
   "outputs": [],
   "source": [
    "n= int(input())\n",
    "a=1\n",
    "b=1\n",
    "q=n\n",
    "while n-2:\n",
    "    c=a+b\n",
    "    a=b\n",
    "    b=c\n",
    "    n=n-1\n",
    "    z=c\n",
    "    if z == q:\n",
    "        print(\"True\")\n",
    "        break\n",
    "    else:\n",
    "        print(\"False\")    \n",
    "    "
   ]
  },
  {
   "cell_type": "markdown",
   "metadata": {},
   "source": [
    "## `Patterns 1`"
   ]
  },
  {
   "cell_type": "markdown",
   "metadata": {},
   "source": [
    "### During lecture"
   ]
  },
  {
   "cell_type": "markdown",
   "metadata": {},
   "source": [
    "#### 1. Print the following pattern for the given N number of rows.\n",
    "e.g Pattern for N = 4\n",
    "##### 4444\n",
    "##### 4444\n",
    "##### 4444\n",
    "##### 4444"
   ]
  },
  {
   "cell_type": "code",
   "execution_count": null,
   "metadata": {},
   "outputs": [],
   "source": [
    "n = int(input())\n",
    "i = 1\n",
    "while i <= n:\n",
    "    j = 1\n",
    "    while j <= n:\n",
    "        print(n, end= \"\")\n",
    "        j = j + 1\n",
    "    print()\n",
    "    i = i + 1"
   ]
  },
  {
   "cell_type": "markdown",
   "metadata": {},
   "source": [
    "#### 2. Print the following pattern for the given N number of rows.\n",
    "e.g Pattern for N = 4\n",
    "##### *\n",
    "##### **\n",
    "##### ***\n",
    "##### ****"
   ]
  },
  {
   "cell_type": "code",
   "execution_count": null,
   "metadata": {},
   "outputs": [],
   "source": [
    "n = int(input())\n",
    "i = 1\n",
    "while i <= n:\n",
    "    j = 1\n",
    "    while j <= i:\n",
    "        print(\"*\", end=\"\")\n",
    "        j = j + 1\n",
    "    print()\n",
    "    i = i + 1 "
   ]
  },
  {
   "cell_type": "markdown",
   "metadata": {},
   "source": [
    "#### 3. Print the following pattern for the given N number of rows.\n",
    "e.g Pattern for N = 4\n",
    "##### 1\n",
    "##### 22\n",
    "##### 333\n",
    "##### 4444"
   ]
  },
  {
   "cell_type": "code",
   "execution_count": null,
   "metadata": {},
   "outputs": [],
   "source": [
    "n = int(input())\n",
    "i = 1\n",
    "while i <= n:\n",
    "    j = 1\n",
    "    while j <= i:\n",
    "        print(i, end=\"\")\n",
    "        j = j + 1\n",
    "    print()\n",
    "    i = i + 1"
   ]
  },
  {
   "cell_type": "markdown",
   "metadata": {},
   "source": [
    "#### 4. Print the following pattern for the given N number of rows.\n",
    "e.g Pattern for N = 4\n",
    "##### 1\n",
    "##### 21\n",
    "##### 321\n",
    "##### 4321"
   ]
  },
  {
   "cell_type": "code",
   "execution_count": null,
   "metadata": {},
   "outputs": [],
   "source": [
    "n = int(input())\n",
    "i = 1\n",
    "while i <= n:\n",
    "    j = 1\n",
    "    while j <= i:\n",
    "        print(i-j+1, end=\"\")\n",
    "        j = j + 1\n",
    "    print()\n",
    "    i = i + 1"
   ]
  },
  {
   "cell_type": "markdown",
   "metadata": {},
   "source": [
    "#### 5. Print the following pattern for the given N number of rows.\n",
    "e.g Pattern for N = 4\n",
    "##### A\n",
    "##### BC\n",
    "##### CDE\n",
    "##### DEFG"
   ]
  },
  {
   "cell_type": "code",
   "execution_count": null,
   "metadata": {},
   "outputs": [],
   "source": [
    "n = int(input())\n",
    "i = 1 \n",
    "while i <= n:\n",
    "    j = 1\n",
    "    start_char = chr(ord(\"A\") + i -1)\n",
    "    while j <= i:\n",
    "        charp = chr(ord(start_char) + j -1)\n",
    "        print(charp, end=\"\")\n",
    "        j = j + 1\n",
    "    print()\n",
    "    i = i + 1"
   ]
  },
  {
   "cell_type": "markdown",
   "metadata": {},
   "source": [
    "#### 6. Print the following pattern for the given number of rows.\n",
    "e.g Pattern for N = 5\n",
    "##### E\n",
    "##### DE\n",
    "##### CDE\n",
    "##### BCDE\n",
    "##### ABCDE"
   ]
  },
  {
   "cell_type": "code",
   "execution_count": null,
   "metadata": {},
   "outputs": [],
   "source": [
    "n = int(input())\n",
    "i = 1\n",
    "while i <= n:\n",
    "    j = 1\n",
    "    start_char = chr(ord(\"A\")+ n - i)\n",
    "    while j <= i:\n",
    "        char = chr(ord(start_char) + j - 1 )\n",
    "        print(char, end= \"\")\n",
    "        j = j + 1\n",
    "    print()\n",
    "    i = i + 1"
   ]
  },
  {
   "cell_type": "markdown",
   "metadata": {},
   "source": [
    "### Assignment"
   ]
  },
  {
   "cell_type": "markdown",
   "metadata": {},
   "source": [
    "#### 1. Print the following pattern for the given N number of rows.\n",
    "e.g Pattern for N = 4\n",
    "##### 1\n",
    "##### 11\n",
    "##### 111\n",
    "##### 1111"
   ]
  },
  {
   "cell_type": "code",
   "execution_count": null,
   "metadata": {},
   "outputs": [],
   "source": [
    "n = int(input())\n",
    "i = 1\n",
    "while i <= n:\n",
    "    j = 1\n",
    "    while j <= i:\n",
    "        print(\"1\", end=\"\")\n",
    "        j = j + 1\n",
    "    print()\n",
    "    i = i + 1"
   ]
  },
  {
   "cell_type": "markdown",
   "metadata": {},
   "source": [
    "#### 2. Print the following pattern for the given N number of rows.\n",
    "e.g Pattern for N = 4\n",
    "##### 1\n",
    "##### 11\n",
    "##### 202\n",
    "##### 3003"
   ]
  },
  {
   "cell_type": "code",
   "execution_count": null,
   "metadata": {},
   "outputs": [],
   "source": [
    "n = int(input())\n",
    "i = 1\n",
    "while i <= n:\n",
    "    j = 1\n",
    "    while j <= i:\n",
    "        if i == 1 and j == 1:\n",
    "            print(\"1\", end=\"\")\n",
    "        elif i == j:\n",
    "            print(i-1, end= \"\")\n",
    "        elif j > 1 and j < i:\n",
    "            print(\"0\", end= \"\")\n",
    "        else:\n",
    "            print(i-1, end= \"\")\n",
    "        j = j + 1\n",
    "    print()\n",
    "    i = i + 1"
   ]
  },
  {
   "cell_type": "markdown",
   "metadata": {},
   "source": [
    "#### 3. Print the following pattern for the given N number of rows.\n",
    "e.g Pattern for N = 4\n",
    "##### 1\n",
    "##### 11\n",
    "##### 121\n",
    "##### 1221"
   ]
  },
  {
   "cell_type": "code",
   "execution_count": null,
   "metadata": {},
   "outputs": [],
   "source": [
    "n = int(input())\n",
    "i = 1\n",
    "while i <= n:\n",
    "    j = 1\n",
    "    while j <= i:\n",
    "        if j>1 and j<i:\n",
    "            print(\"2\", end= \"\")\n",
    "        elif j==i:\n",
    "            print(\"1\", end= \"\")\n",
    "        else:\n",
    "            print(\"1\", end= \"\")\n",
    "        j= j+1\n",
    "    print()\n",
    "    i = i + 1"
   ]
  },
  {
   "cell_type": "markdown",
   "metadata": {},
   "source": [
    "#### 4. Print the following pattern for the given N number of rows.\n",
    "e.g Pattern for N = 4\n",
    "##### 1234\n",
    "##### 123\n",
    "##### 12\n",
    "##### 1"
   ]
  },
  {
   "cell_type": "code",
   "execution_count": null,
   "metadata": {},
   "outputs": [],
   "source": [
    "n = int(input())\n",
    "i = 1 \n",
    "while i <= n:\n",
    "    j=1\n",
    "    while j <= n-i+1:\n",
    "        print(j, end= \"\")\n",
    "        j = j+1\n",
    "    print()\n",
    "    i = i+1"
   ]
  },
  {
   "cell_type": "markdown",
   "metadata": {},
   "source": [
    "#### 5. Print the following pattern for the given N number of rows.\n",
    "e.g Pattern for N = 3\n",
    "##### A\n",
    "##### BB\n",
    "##### CCC"
   ]
  },
  {
   "cell_type": "code",
   "execution_count": null,
   "metadata": {},
   "outputs": [],
   "source": [
    "n = int(input())\n",
    "i = 1\n",
    "while i <= n:\n",
    "    j = 1\n",
    "    while j <= i:\n",
    "        char = chr(ord(\"A\") + i - 1)\n",
    "        print(char, end= \"\")\n",
    "        j = j + 1\n",
    "    print()\n",
    "    i = i + 1"
   ]
  },
  {
   "cell_type": "markdown",
   "metadata": {},
   "source": [
    "## `Patterns 2`"
   ]
  },
  {
   "cell_type": "markdown",
   "metadata": {},
   "source": [
    "### During lecture"
   ]
  },
  {
   "cell_type": "markdown",
   "metadata": {},
   "source": [
    "#### 1. Print the following pattern for the given N number of rows.\n",
    "e.g Pattern for N = 4\n",
    "##### 4444\n",
    "##### 333\n",
    "##### 22\n",
    "##### 1"
   ]
  },
  {
   "cell_type": "code",
   "execution_count": null,
   "metadata": {},
   "outputs": [],
   "source": [
    "n = int(input())\n",
    "i = 1\n",
    "while i <= n:\n",
    "    j = 1\n",
    "    x = n - i + 1 \n",
    "    while j <= x:\n",
    "        print(x, end= \"\")\n",
    "        j = j + 1\n",
    "    print()\n",
    "    i = i + 1"
   ]
  },
  {
   "cell_type": "markdown",
   "metadata": {},
   "source": [
    "#### 2. Print the following pattern for the given N number of rows.\n",
    "e.g Pattern for N = 4\n",
    "##### ___1\n",
    "##### __12\n",
    "##### _123\n",
    "##### 1234"
   ]
  },
  {
   "cell_type": "code",
   "execution_count": null,
   "metadata": {},
   "outputs": [],
   "source": [
    "n = int(input())\n",
    "i = 1\n",
    "while i <= n:\n",
    "    j1 = 1\n",
    "    while j1 <= n-i:\n",
    "        print(\" \", end= \"\")\n",
    "        j1 = j1 + 1\n",
    "    j2 = 1\n",
    "    while j2 <= i:\n",
    "        print(j2, end= \"\")\n",
    "        j2 = j2 + 1\n",
    "    print()\n",
    "    i = i + 1"
   ]
  },
  {
   "cell_type": "markdown",
   "metadata": {},
   "source": [
    "#### 3. Print the following pattern\n",
    "e.g Pattern for N = 4\n",
    "##### ___`*`\n",
    "##### __`***` \n",
    "##### _`*****`\n",
    "##### `*******`"
   ]
  },
  {
   "cell_type": "code",
   "execution_count": null,
   "metadata": {},
   "outputs": [],
   "source": [
    "n = int(input())\n",
    "i = 1\n",
    "while i <= n:\n",
    "# loop for spaces\n",
    "    space = 1\n",
    "    while space <= n-i:\n",
    "        print(\" \", end= \"\")\n",
    "        space = space + 1\n",
    "# loop for stars\n",
    "    star = 1\n",
    "    while star <= i:\n",
    "        print(\"*\", end=\"\")\n",
    "        star = star + 1\n",
    "# loop for right stars\n",
    "    right_star = i - 1\n",
    "    while right_star >= 1:\n",
    "        print(\"*\", end= \"\")\n",
    "        right_star = right_star - 1\n",
    "    print()\n",
    "    i = i + 1"
   ]
  },
  {
   "cell_type": "markdown",
   "metadata": {},
   "source": [
    "#### 4. Print the following pattern for the given number of rows.\n",
    "e.g Pattern for N = 3\n",
    "##### ___1\n",
    "##### __232\n",
    "##### 34543"
   ]
  },
  {
   "cell_type": "code",
   "execution_count": null,
   "metadata": {},
   "outputs": [],
   "source": [
    "n = int(input())\n",
    "i = 1\n",
    "while i <= n:\n",
    "    s = 1                                       # left pattern \"s\" for spaces\n",
    "    while s <= n-i:\n",
    "        print(\" \", end= \"\")\n",
    "        s = s + 1\n",
    "    m_p = 1                                     # middle pattern \"m_p\"\n",
    "    while m_p <= i:\n",
    "        print(m_p + i -1, end= \"\")\n",
    "        m_p = m_p + 1\n",
    "    r_p = i - 1                                 # right pattern \"r_p\"\n",
    "    while r_p >= 1:\n",
    "        print(r_p +i - 1, end= \"\")\n",
    "        r_p = r_p - 1\n",
    "    print()\n",
    "    i = i + 1"
   ]
  },
  {
   "cell_type": "markdown",
   "metadata": {},
   "source": [
    "#### 5. Print the following pattern for the given number of rows.\n",
    "##### Assume, N is always odd.\n",
    "Pattern for N = 7\n",
    "##### ___`*`\n",
    "##### __`***`\n",
    "##### _`*****`\n",
    "##### `*******`\n",
    "##### _`*****`\n",
    "##### __`***`\n",
    "##### ___`*`"
   ]
  },
  {
   "cell_type": "code",
   "execution_count": null,
   "metadata": {},
   "outputs": [],
   "source": [
    "n = int(input())\n",
    "part1 = (n+1)/2                                     # Part 1 is upper part of pattern \"part1\"\n",
    "part2 = part1 - 1                                   # Part 2 is lower part of pattern \"part2\"\n",
    "x = 1\n",
    "while x == 1:\n",
    "    a = 1\n",
    "    i = 1\n",
    "    while i <= part1:\n",
    "        l_s1 = 1                                    # left space of part 1  \"l_s1\"\n",
    "        while l_s1 <= part1-i:\n",
    "            print(\" \", end= \"\")\n",
    "            l_s1 = l_s1 + 1\n",
    "        m_p1 = 1                                    # Middle pattern of part 1 \"m_p1\"\n",
    "        while m_p1 <= i:\n",
    "            print(\"*\", end= \"\")\n",
    "            m_p1 = m_p1 + 1\n",
    "        r_p1 = i - 1                                # left pattern of part 1 \"r_p1\"\n",
    "        while r_p1 >= 1:\n",
    "            print(\"*\", end= \"\")\n",
    "            r_p1 = r_p1 - 1\n",
    "        print()\n",
    "        i = i + 1 \n",
    "        a = a + 1\n",
    "    j = 1\n",
    "    while j <= part2:\n",
    "        l_s2 = 1                                    # left space of part 2  \"l_s1\"\n",
    "        while l_s2 <= j :\n",
    "            print(\" \", end= \"\")\n",
    "            l_s2 = l_s2 + 1\n",
    "        m_p2 = 1                                    # Middle pattern of part 2 \"m_p1\"\n",
    "        while m_p2 <= part2 - j + 1 :\n",
    "            print(\"*\", end= \"\")\n",
    "            m_p2 = m_p2 + 1\n",
    "        r_p2 = part2 - j                            # Right pattern of part 2 \"r_p2\"\n",
    "        while r_p2 >= 1:\n",
    "            print(\"*\", end= \"\")\n",
    "            r_p2 = r_p2 - 1\n",
    "        print()\n",
    "        j = j + 1\n",
    "    print()\n",
    "    x = 0"
   ]
  },
  {
   "cell_type": "markdown",
   "metadata": {},
   "source": [
    "### Assignment"
   ]
  },
  {
   "cell_type": "markdown",
   "metadata": {},
   "source": [
    "#### 1. Print the following pattern for n number of rows.\n",
    "For eg. N = 5\n",
    "\n",
    "##### `1________1`\n",
    "##### `12______21`\n",
    "##### `123____321`\n",
    "##### `1234__4321`\n",
    "##### `1234554321`"
   ]
  },
  {
   "cell_type": "code",
   "execution_count": null,
   "metadata": {},
   "outputs": [],
   "source": [
    "n = int(input())\n",
    "i = 1\n",
    "while i <= n:\n",
    "    left = 1\n",
    "    while left <= i:\n",
    "        print(left, end= \"\")\n",
    "        left = left + 1\n",
    "    space = 1    \n",
    "    while space <= (2*n)-(2*i):\n",
    "        print(\" \", end= \"\")\n",
    "        space = space + 1\n",
    "    right = i\n",
    "    while right >= 1:\n",
    "        print(right, end=\"\")\n",
    "        right = right - 1\n",
    "    print()\n",
    "    i = i + 1"
   ]
  },
  {
   "cell_type": "markdown",
   "metadata": {},
   "source": [
    "#### 2. Print the following pattern\n",
    "Pattern for N = 4\n",
    "##### `*000*000*`\n",
    "##### `0*00*00*0`\n",
    "##### `00*0*0*00`\n",
    "##### `000***000`"
   ]
  },
  {
   "cell_type": "code",
   "execution_count": null,
   "metadata": {},
   "outputs": [],
   "source": [
    "# main\n",
    "n = int(input())\n",
    "i = 1\n",
    "while i <= n:\n",
    "                                                    # part 1\n",
    "    zero1 = 1\n",
    "    while zero1 <= i-1:\n",
    "        print(\"0\", end= \"\")\n",
    "        zero1 = zero1 + 1\n",
    "    star1 = 1\n",
    "    while star1 <= 1 :\n",
    "        print(\"*\", end= \"\")\n",
    "        star1 = star1 + 1\n",
    "                                                    # part 2\n",
    "    star2 = 1                                   \n",
    "    while star2 <= n - i + 1 :\n",
    "        if star2 == n - i + 1:\n",
    "            print(\"*\", end= \"\")\n",
    "        else:\n",
    "            print(\"0\", end= \"\")\n",
    "        star2 = star2 + 1\n",
    "    zero2 = n - i\n",
    "    while zero2 >= 1:\n",
    "        print(\"0\", end= \"\")\n",
    "        zero2 = zero2 - 1\n",
    "                                                    # part 3\n",
    "    star3 = 1\n",
    "    while star3 <= 1:\n",
    "        print(\"*\", end= \"\")\n",
    "        star3 = star3 + 1\n",
    "    zero3 = 1    \n",
    "    while zero3 <= i-1:\n",
    "        print(\"0\", end= \"\")\n",
    "        zero3 = zero3 + 1 \n",
    "    print()\n",
    "    i = i + 1"
   ]
  },
  {
   "cell_type": "code",
   "execution_count": null,
   "metadata": {},
   "outputs": [],
   "source": [
    "# part 1\n",
    "n = int(input())\n",
    "i = 1\n",
    "while i <= n:\n",
    "    zero1 = 1\n",
    "    while zero1 <= i-1:\n",
    "        print(\"0\", end= \"\")\n",
    "        zero1 = zero1 + 1\n",
    "    star1 = 1\n",
    "    while star1 <= 1 :\n",
    "        print(\"*\", end= \"\")\n",
    "        star1 = star1 + 1\n",
    "    print()\n",
    "    i = i + 1"
   ]
  },
  {
   "cell_type": "code",
   "execution_count": null,
   "metadata": {},
   "outputs": [],
   "source": [
    "# part 2\n",
    "n = int(input())\n",
    "i = 1\n",
    "while i <= n:\n",
    "    space2 = 1                                    \n",
    "    while space2 <= i :\n",
    "        print(\" \", end= \"\")\n",
    "        space2 = space2 + 1\n",
    "    star2 = 1                                   \n",
    "    while star2 <= n - i + 1 :\n",
    "        if star2 == n - i + 1:\n",
    "            print(\"*\", end= \"\")\n",
    "        else:\n",
    "            print(\"0\", end= \"\")\n",
    "        star2 = star2 + 1\n",
    "    zero2 = n - i\n",
    "    while zero2 >= 1:\n",
    "        print(\"0\", end= \"\")\n",
    "        zero2 = zero2 - 1\n",
    "    print()\n",
    "    i = i + 1"
   ]
  },
  {
   "cell_type": "code",
   "execution_count": null,
   "metadata": {},
   "outputs": [],
   "source": [
    "# part 3\n",
    "n = int(input())\n",
    "i = 1\n",
    "while i <= n:\n",
    "    space3 = 1\n",
    "    while space3 <= n - i:\n",
    "        print(\" \", end= \"\")\n",
    "        space3 = space3 + 1\n",
    "    star3 = 1\n",
    "    while star3 <= 1:\n",
    "        print(\"*\", end= \"\")\n",
    "        star3 = star3 + 1\n",
    "    zero3 = 1    \n",
    "    while zero3 <= i-1:\n",
    "        print(\"0\", end= \"\")\n",
    "        zero3 = zero3 + 1 \n",
    "    print()\n",
    "    i = i + 1"
   ]
  },
  {
   "cell_type": "markdown",
   "metadata": {},
   "source": [
    "#### 3. Print the following pattern for the given number of rows.\n",
    "Pattern for N = 4\n",
    "##### ___`1`\n",
    "##### __`212`\n",
    "##### _`32123`\n",
    "##### `4321234`"
   ]
  },
  {
   "cell_type": "code",
   "execution_count": null,
   "metadata": {},
   "outputs": [],
   "source": [
    "n = int(input())\n",
    "i = 1\n",
    "while i <= n:\n",
    "    space = 1\n",
    "    while space <= n-i:\n",
    "        print(\" \", end= \"\")\n",
    "        space = space + 1\n",
    "    left = i\n",
    "    while left >= 1:\n",
    "        print(left, end=\"\")\n",
    "        left = left - 1\n",
    "    right = 2\n",
    "    while right <= i:\n",
    "        print(right , end= \"\")\n",
    "        right = right + 1\n",
    "    print()\n",
    "    i = i + 1"
   ]
  },
  {
   "cell_type": "markdown",
   "metadata": {},
   "source": [
    "#### 4. Print the following pattern for the given number of rows.\n",
    "##### Assume N is always odd.\n",
    "##### Note : There is space after every star.\n",
    "Pattern for N = 7\n",
    "##### `*`\n",
    "##### _`* *`\n",
    "##### __`* * *`\n",
    "#####  ___`* * * *`\n",
    "##### __`* * *`\n",
    "##### _`* *`\n",
    "##### `*`"
   ]
  },
  {
   "cell_type": "code",
   "execution_count": null,
   "metadata": {},
   "outputs": [],
   "source": [
    "n = int(input())\n",
    "part1 = (n+1)/2\n",
    "part2 = part1 - 1\n",
    "x = 1\n",
    "while x == 1:\n",
    "    i = 1\n",
    "    while i <= part1:\n",
    "        space1 = 1\n",
    "        while space1 <= i-1:\n",
    "            print(\" \", end= \"\")\n",
    "            space1 = space1 + 1\n",
    "        j = 1\n",
    "        while j <= i:\n",
    "            print(\"*\", end= \"\")\n",
    "            j = j + 1\n",
    "        print()\n",
    "        i = i + 1\n",
    "    k = 1\n",
    "    while k <= part2:\n",
    "        space2 = 1\n",
    "        while space2 <= part2 - k:\n",
    "            print(\" \", end= \"\")\n",
    "            space2 = space2 + 1\n",
    "        a = 1\n",
    "        while a <= part2 -  k+ 1:\n",
    "            print(\"*\", end= \"\")\n",
    "            a = a + 1\n",
    "        print()\n",
    "        k = k + 1\n",
    "    print()\n",
    "    x = 0"
   ]
  },
  {
   "cell_type": "code",
   "execution_count": null,
   "metadata": {},
   "outputs": [],
   "source": [
    "# add some space between stars\n",
    "n = int(input())\n",
    "part1 = (n+1)/2\n",
    "part2 = part1 - 1\n",
    "x = 1\n",
    "while x == 1:\n",
    "    i = 1\n",
    "    while i <= part1:\n",
    "        space1 = 1\n",
    "        while space1 <= i-1:\n",
    "            print(\" \", end= \"\")\n",
    "            space1 = space1 + 1\n",
    "        j = 1\n",
    "        while j <= i:\n",
    "            print(\"*\" \" \", end= \"\")\n",
    "            j = j + 1\n",
    "        print()\n",
    "        i = i + 1\n",
    "    k = 1\n",
    "    while k <= part2:\n",
    "        space2 = 1\n",
    "        while space2 <= part2 - k:\n",
    "            print(\" \", end= \"\")\n",
    "            space2 = space2 + 1\n",
    "        a = 1\n",
    "        while a <= part2 -  k+ 1:\n",
    "            print(\"*\" \" \", end= \"\")\n",
    "            a = a + 1\n",
    "        print()\n",
    "        k = k + 1\n",
    "    print()\n",
    "    x = 0"
   ]
  },
  {
   "cell_type": "markdown",
   "metadata": {},
   "source": [
    "## `More On Loops`"
   ]
  },
  {
   "cell_type": "markdown",
   "metadata": {},
   "source": [
    "### Assignment"
   ]
  },
  {
   "cell_type": "markdown",
   "metadata": {},
   "source": [
    "#### 1. Print the following pattern for the given number of rows.\n",
    "e.g Pattern for N = 4\n",
    "##### 1111\n",
    "##### 000\n",
    "##### 11\n",
    "##### 0"
   ]
  },
  {
   "cell_type": "code",
   "execution_count": null,
   "metadata": {},
   "outputs": [],
   "source": [
    "n = int(input())\n",
    "for i in range(1, n+1 , 1):\n",
    "    for j in range(n, n- i , -1):\n",
    "        if i % 2 == 0:\n",
    "            print(\"0\", end= \"\")\n",
    "        else:\n",
    "            print(\"1\", end= \"\")\n",
    "    print()"
   ]
  },
  {
   "cell_type": "code",
   "execution_count": null,
   "metadata": {},
   "outputs": [],
   "source": [
    "n = int(input())\n",
    "for i in range(1, n+1 , 1):\n",
    "    for j in range(-1, n-i, 1):\n",
    "        if i % 2 == 0:\n",
    "            print(\"0\", end= \"\")\n",
    "        else:\n",
    "            print(\"1\", end= \"\")\n",
    "    print()"
   ]
  },
  {
   "cell_type": "markdown",
   "metadata": {},
   "source": [
    "#### 2. Print the following pattern for a given n.\n",
    "For eg. N = 6\n",
    "##### `123456`\n",
    "##### `_23456`\n",
    "##### `__3456`\n",
    "##### `___456`\n",
    "##### `____56`\n",
    "##### `_____6`\n",
    "##### `____56`\n",
    "##### `___456`\n",
    "##### `__3456`\n",
    "##### `_23456`\n",
    "##### `123456`"
   ]
  },
  {
   "cell_type": "code",
   "execution_count": null,
   "metadata": {},
   "outputs": [],
   "source": [
    "n = int(input())\n",
    "for x in range(1):    \n",
    "    for row in range(1, n+1, 1):\n",
    "        for space in range(n, n-row+1, -1):\n",
    "            print(\" \", end= \"\")\n",
    "        for pattern in range(row, n+1, 1):\n",
    "            print(pattern, end= \"\")\n",
    "        print()\n",
    "    for row in range(2, n+1, 1):\n",
    "        for space in range(1, n-row+1, 1):\n",
    "            print(\" \", end= \"\")\n",
    "        for pattern in range(n-row+1, n+1, 1):\n",
    "            print(pattern, end= \"\")\n",
    "        print()"
   ]
  },
  {
   "cell_type": "code",
   "execution_count": null,
   "metadata": {},
   "outputs": [],
   "source": [
    "n = int(input())\n",
    "for row in range(1, n+1, 1):\n",
    "    for space in range(0, n-row+1, 1):\n",
    "        print(\" \", end= \"\")\n",
    "    for pattern in range(n-row+1, n+1, 1):\n",
    "        print(pattern, end= \"\")\n",
    "    print()"
   ]
  },
  {
   "cell_type": "markdown",
   "metadata": {},
   "source": [
    "#### 3. Print the following pattern for the given number of rows.\n",
    "##### Assume, N is always odd.\n",
    "e.g Pattern for N = 7\n",
    "##### ___`*`\n",
    "##### __`***`\n",
    "##### _`*****`\n",
    "##### `*******`\n",
    "##### _`*****`\n",
    "##### __`***`\n",
    "##### ___`*`"
   ]
  },
  {
   "cell_type": "code",
   "execution_count": null,
   "metadata": {},
   "outputs": [],
   "source": [
    "n = int(input())\n",
    "x = (n+1)//2\n",
    "y = ((n+1)//2)-1\n",
    "for z in range(1):\n",
    "    for row in range(1, x+1, 1):\n",
    "        for space in range(0, x-row, 1):\n",
    "            print(\" \", end= \"\")\n",
    "        for l_p in range(row, (2*row), 1):\n",
    "            print(\"*\", end= \"\")\n",
    "        for r_p in range((2*row) - 2, row - 1, -1):\n",
    "            print(\"*\", end= \"\")\n",
    "        print()\n",
    "    for row in range(1, y+1, 1):\n",
    "        for space in range(1, row+1, 1):\n",
    "            print(\" \", end= \"\")\n",
    "        for star in range(y-row+2, 1 , -1):\n",
    "            print(\"*\", end= \"\")\n",
    "        for star2 in range(1, y-row+1 , 1):\n",
    "            print(\"*\", end=\"\")\n",
    "        print()\n",
    "    print()"
   ]
  },
  {
   "cell_type": "markdown",
   "metadata": {},
   "source": [
    "#### 4. Print the following pattern for the given number of rows.\n",
    "e.g Pattern for N = 4\n",
    "##### 4444444\n",
    "##### 4333334\n",
    "##### 4322234\n",
    "##### 4321234\n",
    "##### 4322234\n",
    "##### 4333334  \n",
    "##### 4444444"
   ]
  },
  {
   "cell_type": "code",
   "execution_count": null,
   "metadata": {},
   "outputs": [],
   "source": [
    "n = int(input())\n",
    "for x in range(1):\n",
    "    # Upper part\n",
    "    for row in range(1, n+1, 1):\n",
    "        for coll1 in range(n, n-row, -1):\n",
    "            print(coll1, end= \"\")\n",
    "        for coll2 in range(n-row+2  , 2  , -1):\n",
    "            print(n-row+1, end=\"\")\n",
    "        for coll3 in range(1, n-row, 1):\n",
    "            print(n-row+1, end=\"\")\n",
    "        for coll4 in range(n-row+1, n+1, 1):\n",
    "            if coll4 == 1:\n",
    "                continue\n",
    "            print(coll4, end=\"\")\n",
    "        print()\n",
    "    # lower part\n",
    "    for row in range(1, n, 1):\n",
    "        for coll1 in range(n, row, -1):\n",
    "            print(coll1, end= \"\")\n",
    "        for coll2 in range(n, n-row, -1):\n",
    "            print(row+1, end= \"\")\n",
    "        for coll3 in range(n-1, n- row, -1):\n",
    "            print(row+1, end=\"\")\n",
    "        for coll4 in range(row+1, n+1, 1):\n",
    "            print(coll4, end=\"\")\n",
    "        print()\n",
    "    print()"
   ]
  },
  {
   "cell_type": "code",
   "execution_count": null,
   "metadata": {},
   "outputs": [],
   "source": [
    "# part 1.1\n",
    "n = int(input())\n",
    "for row in range(1, n+1, 1):\n",
    "    for coll in range(n, n-row, -1):\n",
    "        print(coll, end= \"\")\n",
    "    print()"
   ]
  },
  {
   "cell_type": "code",
   "execution_count": null,
   "metadata": {},
   "outputs": [],
   "source": [
    "# part 1.2\n",
    "n = int(input())\n",
    "for row in range(1, n+1, 1 ):\n",
    "    for space in range(1, row+1, 1):\n",
    "        print(\" \", end=\"\")\n",
    "    for coll in range(n-row+2  , 2  , -1):\n",
    "        print(n-row+1, end=\"\")\n",
    "    for coll2 in range(1, n-row, 1):\n",
    "        print(n-row+1, end=\"\")\n",
    "    print()    "
   ]
  },
  {
   "cell_type": "code",
   "execution_count": null,
   "metadata": {},
   "outputs": [],
   "source": [
    "# part 1.3\n",
    "n = int(input())\n",
    "for row in range(1, n+1 , 1):\n",
    "    for space in range(1, n-row+1, 1 ):\n",
    "        print(\" \", end=  \"\")\n",
    "    for coll in range(n-row+1, n+1, 1):\n",
    "        if coll == 1:\n",
    "            continue\n",
    "        print(coll, end=\"\")\n",
    "    print()"
   ]
  },
  {
   "cell_type": "code",
   "execution_count": null,
   "metadata": {},
   "outputs": [],
   "source": [
    "# part 2.1\n",
    "n = int(input())\n",
    "for row in range(1, n, 1):\n",
    "    for coll in range(n, row, -1):\n",
    "        print(coll, end= \"\")\n",
    "    print()"
   ]
  },
  {
   "cell_type": "code",
   "execution_count": null,
   "metadata": {},
   "outputs": [],
   "source": [
    "# part 2.2\n",
    "n = int(input())\n",
    "for row in range(1, n, 1):\n",
    "    for space in range(1, n-row, 1 ):\n",
    "        print(\" \", end=  \"\")\n",
    "    for coll in range(n, n-row, -1):\n",
    "        print(row+1, end= \"\")\n",
    "    for coll in range(n-1, n- row, -1):\n",
    "        print(row+1, end=\"\")\n",
    "    print()"
   ]
  },
  {
   "cell_type": "code",
   "execution_count": null,
   "metadata": {},
   "outputs": [],
   "source": [
    "# part 2.3\n",
    "n = int(input())\n",
    "for row in range(1, n, 1):\n",
    "    for space in range(n-row+1 , n ,1 ):\n",
    "        print(\" \", end=  \"\")\n",
    "    for coll in range(row+1, n+1, 1):\n",
    "        print(coll, end=\"\")\n",
    "    print()"
   ]
  },
  {
   "cell_type": "markdown",
   "metadata": {},
   "source": [
    "#### 5. Print the following pattern for the given number of rows.\n",
    "e.g Pattern for N = 5\n",
    "##### 1    2   3    4   5\n",
    "##### 11   12  13   14  15\n",
    "##### 21   22  23   24  25\n",
    "##### 16   17  18   19  20\n",
    "##### 6    7    8   9   10"
   ]
  },
  {
   "cell_type": "code",
   "execution_count": null,
   "metadata": {},
   "outputs": [],
   "source": [
    "n = int(input())\n",
    "if n % 2== 0:\n",
    "    n1 = n \n",
    "else:\n",
    "    n1 = n + 1\n",
    "for i in range(n1//2):\n",
    "    for j in range(1,n+1):\n",
    "        if j != n:\n",
    "            print(n*2*i + j ,end = \" \");\n",
    "        else:\n",
    "            print(n*2*i + j ,end = \" \");\n",
    "    print()\n",
    "if n % 2 == 0:\n",
    "    for i in range((n1//2),0,-1):\n",
    "        for j in range(1,n+1):\n",
    "            if j !=n:\n",
    "                print(n*(2*i-1) + j , end = \" \")\n",
    "            else:\n",
    "                print(n*(2*i-1) + j , end = \" \")\n",
    "        print()\n",
    "else:\n",
    "    for i in range((n1//2)-1,0,-1):\n",
    "        for j in range(1,n+1):\n",
    "            if j !=n:\n",
    "                print(n*(2*i-1) + j , end = \" \")\n",
    "            else:\n",
    "                print(n*(2*i-1) + j , end = \" \")    \n",
    "        print()"
   ]
  },
  {
   "cell_type": "markdown",
   "metadata": {},
   "source": [
    "## `Functions`"
   ]
  },
  {
   "cell_type": "markdown",
   "metadata": {},
   "source": [
    "### Assignment"
   ]
  },
  {
   "cell_type": "markdown",
   "metadata": {},
   "source": [
    "#### 1. Given three values - Start Fahrenheit Value (S), End Fahrenheit value (E) and Step Size (W), you need to convert all Fahrenheit values from Start to End at the gap of W, into their corresponding Celsius values and print the table.\n",
    "Input Format :\n",
    "3 integers - S, E and W respectively"
   ]
  },
  {
   "cell_type": "code",
   "execution_count": null,
   "metadata": {},
   "outputs": [],
   "source": [
    "def fartocel(s, e,w):\n",
    "    for i in range(s, e+1, w):\n",
    "        c = (i-32)*5/9  \n",
    "        print(i, \" \", int(c))\n",
    "        \n",
    "s = int(input())\n",
    "e = int(input())\n",
    "w = int(input())\n",
    "y = fartocel(s,e,w)"
   ]
  },
  {
   "cell_type": "markdown",
   "metadata": {},
   "source": [
    "#### 2 Given a number N, figure out if it is a member of fibonacci series or not. Return true if the number is member of fibonacci series else false.\n",
    "Fibonacci Series is defined by the recurrence\n",
    "    F(n) = F(n-1) + F(n-2)"
   ]
  },
  {
   "cell_type": "code",
   "execution_count": null,
   "metadata": {},
   "outputs": [],
   "source": [
    "def checkMember(n):\n",
    "    a=1\n",
    "    b=1\n",
    "    while n-2:\n",
    "        c=a+b\n",
    "        a=b\n",
    "        b=c\n",
    "        n= n-1\n",
    "        if n == c :\n",
    "            return True\n",
    "    return False\n",
    "n=int(input())\n",
    "if(checkMember(n)):\n",
    "    print(\"true\")\n",
    "else:\n",
    "    print(\"false\")"
   ]
  },
  {
   "cell_type": "code",
   "execution_count": null,
   "metadata": {},
   "outputs": [],
   "source": [
    "def checkMember(n):\n",
    "    a=1\n",
    "    b=1\n",
    "    for i in range(0, n):\n",
    "        c=a+b\n",
    "        a=b\n",
    "        b=c\n",
    "        if n == c:\n",
    "            return True\n",
    "    return False\n",
    "n=int(input())\n",
    "if(checkMember(n)):\n",
    "    print(\"true\")\n",
    "else:\n",
    "    print(\"false\")"
   ]
  },
  {
   "cell_type": "markdown",
   "metadata": {},
   "source": [
    "#### 3. Write a program to determine if given number is palindrome or not. Print true if it is palindrome, false otherwise.\n",
    "Palindrome are the numbers for which reverse is exactly same as the original one. For eg. 121"
   ]
  },
  {
   "cell_type": "code",
   "execution_count": null,
   "metadata": {},
   "outputs": [],
   "source": [
    "def checkPalindrome(num):\n",
    "    rev = 0\n",
    "    ispalindorme = num\n",
    "    while(num > 0):    \n",
    "        Rem = num %10    \n",
    "        rev = (rev *10) + Rem    \n",
    "        num = num //10\n",
    "    if(rev == ispalindorme):\n",
    "        print('true')\n",
    "    else:\n",
    "        print('false')\n",
    "num = int(input())\n",
    "isPalindrome = checkPalindrome(num)"
   ]
  },
  {
   "cell_type": "markdown",
   "metadata": {},
   "source": [
    "#### 4. Write a Program to determine if the given number is Armstrong number or not. Print true if number is armstrong, otherwise print false.\n",
    "An Armstrong number is a number (with digits n) such that the sum of its digits raised to nth power is equal to the number itself.\n",
    "For example,\n",
    "371, as 3^3 + 7^3 + 1^3 = 371\n",
    "1634, as 1^4 + 6^4 + 3^4 + 4^4 = 1634"
   ]
  },
  {
   "cell_type": "code",
   "execution_count": null,
   "metadata": {},
   "outputs": [],
   "source": [
    "num = int(input()) \n",
    "lenth = len(str(num))\n",
    "sum = 0  \n",
    "temp = num    \n",
    "while temp > 0:  \n",
    "    digit = temp % 10\n",
    "    sum += digit ** lenth  \n",
    "    temp //= 10  \n",
    "if num == sum:  \n",
    "    print(\"true\")  \n",
    "else:  \n",
    "    print(\"false\")  "
   ]
  },
  {
   "cell_type": "markdown",
   "metadata": {},
   "source": [
    "## `Array & Lists`"
   ]
  },
  {
   "cell_type": "markdown",
   "metadata": {},
   "source": [
    "### During Lecture"
   ]
  },
  {
   "cell_type": "markdown",
   "metadata": {},
   "source": [
    "#### 1. Given an array of length N, you need to find and print the sum of all elements of the array.\n",
    "Input Format :\n",
    "Line 1 : An Integer N i.e. size of array\n",
    "Line 2 : N integers which are elements of the array, separated by spaces\n",
    "\n",
    "Sample Input :\n",
    "##### 3\n",
    "##### 9 8 9\n",
    "Sample Output :\n",
    "##### 26"
   ]
  },
  {
   "cell_type": "code",
   "execution_count": null,
   "metadata": {},
   "outputs": [],
   "source": [
    "array = []\n",
    "n = int(input())\n",
    "array = map(int,input().split())\n",
    "add = 0\n",
    "for j in array:\n",
    "    add = add + j\n",
    "print(add)"
   ]
  },
  {
   "cell_type": "markdown",
   "metadata": {},
   "source": [
    "#### 2. Given an array of length N, swap every pair of alternate elements in the array.\n",
    "You don't need to print or return anything, just change in the input array itself.\n",
    "Input Format :\n",
    "Line 1 : An Integer N i.e. size of array\n",
    "Line 2 : N integers which are elements of the array, separated by spaces\n",
    "\n",
    "Output Format :\n",
    "Elements after swapping, separated by space.\n",
    "##### Sample Input 1:\n",
    "##### 6\n",
    "##### 9 3 6 12 4 32\n",
    "Sample Output 2 :\n",
    "##### 3 9 12 6 32 4\n",
    "Sample Input 1:\n",
    "##### 9\n",
    "##### 9 3 6 12 4 32 5 11 19\n",
    "Sample Output 2 :\n",
    "##### 3 9 12 6 32 4 11 5 19"
   ]
  },
  {
   "cell_type": "code",
   "execution_count": null,
   "metadata": {},
   "outputs": [],
   "source": [
    "def rev_adj(li):\n",
    "    lenth = len(li)\n",
    "    if lenth % 2 == 0:\n",
    "        lenth = lenth\n",
    "    else:\n",
    "        lenth = lenth - 1\n",
    "    for i in range(0,lenth, 2):\n",
    "        li[i],li[i+1]=li[i+1], li[i]\n",
    "\n",
    "n=int(input())\n",
    "li = [int(n) for n in input().split()]\n",
    "rev_adj(li)\n",
    "for j in li:\n",
    "    print(j , end= \" \")"
   ]
  },
  {
   "cell_type": "code",
   "execution_count": null,
   "metadata": {},
   "outputs": [],
   "source": [
    "def rev_adj(li):\n",
    "    lenth = len(li)\n",
    "    if lenth % 2 == 0:\n",
    "        lenth = lenth\n",
    "    else:\n",
    "        lenth = lenth - 1\n",
    "    for i in range(0,lenth, 2):\n",
    "        li[i],li[i+1]=li[i+1], li[i]\n",
    "\n",
    "n=int(input())\n",
    "li = [int(n) for n in input().split()]\n",
    "rev_adj(li)\n",
    "for j in li:\n",
    "    print(j , end= \" \")"
   ]
  },
  {
   "cell_type": "markdown",
   "metadata": {},
   "source": [
    "### Assignment"
   ]
  },
  {
   "cell_type": "markdown",
   "metadata": {},
   "source": [
    "#### 1. Given an integer array of size 2N + 1. In this given array, N numbers are present twice and one number is present only once in the array.\n",
    "You need to find and return that number which is unique in the array.\n",
    "`Note : Given array will always contain odd number of elements.`\n",
    "###### `Input format :`\n",
    "###### Line 1 : Array size i.e. 2N+1\n",
    "###### Line 2 : Array elements (separated by space)\n",
    "`Output Format :`\n",
    "###### Unique element present in the array\n",
    "`Constraints :`\n",
    "###### 1 <= N <= 10^3\n",
    "`Sample Input :`\n",
    "##### 7\n",
    "##### 2 3 1 6 3 6 2\n",
    "`Sample Output :`\n",
    "##### 1"
   ]
  },
  {
   "cell_type": "code",
   "execution_count": null,
   "metadata": {},
   "outputs": [],
   "source": [
    "def findSingle(ar, n): \n",
    "    res = ar[0]   \n",
    "    # Do XOR of all elements and return \n",
    "    for i in range(1,n): \n",
    "        res = res ^ ar[i] \n",
    "      \n",
    "    return res \n",
    "n= int(input()) \n",
    "ar = [int(x) for x in input().split()] \n",
    "print (findSingle(ar, n ) )"
   ]
  },
  {
   "cell_type": "markdown",
   "metadata": {},
   "source": [
    "#### 2. Given an array of integers of size n which contains numbers from 0 to n - 2. Each number is present at least once. That is, if n = 5, numbers from 0 to 3 is present in the given array at least once and one number is present twice. You need to find and return that duplicate number present in the array.\n",
    "Assume, duplicate number is always present in the array.\n",
    "###### Input format :\n",
    "###### Line 1 : Size of input array\n",
    "###### Line 2 : Array elements (separated by space)\n",
    "Output Format :\n",
    "###### Duplicate element\n",
    "Constraints :\n",
    "###### 1 <= n <= 10^3\n",
    "Sample Input:\n",
    "##### 9\n",
    "##### 0 7 2 5 4 7 1 3 6\n",
    "Sample Output:\n",
    "##### 7"
   ]
  },
  {
   "cell_type": "code",
   "execution_count": null,
   "metadata": {},
   "outputs": [],
   "source": [
    "def Repeating(li, n): \n",
    "    for i in range (0, n): \n",
    "        for j in range (i + 1, n): \n",
    "            if li[i] == li[j]:\n",
    "                print(li[i])\n",
    "                \n",
    "                \n",
    "n= int(input()) \n",
    "li = [int(x) for x in input().split()] \n",
    "Repeating(li, n)"
   ]
  },
  {
   "cell_type": "markdown",
   "metadata": {},
   "source": [
    "#### 3. Given two random integer arrays of size m and n, print their intersection. That is, print all the elements that are present in both the given arrays.\n",
    "Input arrays can contain duplicate elements.\n",
    "###### Note : Order of elements are not important\n",
    "Input format :\n",
    "###### Line 1 : Array 1 Size\n",
    "###### Line 2 : Array 1 elements (separated by space)\n",
    "###### Line 3 : Array 2 Size\n",
    "###### Line 4 : Array 2 elements (separated by space)\n",
    "###### Output format :\n",
    "Print intersection elements in different lines\n",
    "###### Constraints :\n",
    "###### 1 <= m, n <= 103\n",
    "Sample Input 1 :\n",
    "##### 6\n",
    "##### 2 6 8 5 4 3\n",
    "##### 4\n",
    "##### 2 3 4 7 \n",
    "Sample Output 1 :\n",
    "##### 2 \n",
    "##### 4 \n",
    "##### 3\n",
    "Sample Input 2 :\n",
    "##### 4\n",
    "##### 2 6 1 2\n",
    "##### 5\n",
    "##### 1 2 3 4 2\n",
    "Sample Output 2 :\n",
    "##### 2 \n",
    "##### 2\n",
    "##### 1"
   ]
  },
  {
   "cell_type": "code",
   "execution_count": null,
   "metadata": {},
   "outputs": [],
   "source": [
    "def intersection(m , li1, n, li2):\n",
    "    for i in range(1):\n",
    "        for j in range(1,m):\n",
    "            for k in range(0,n):\n",
    "                if li1[j] == li2[k]:\n",
    "                    print(li2[k])\n",
    "            \n",
    "m = int(input())\n",
    "li1 = [int(x) for x in input().split()]\n",
    "n = int(input())\n",
    "li2 = [int(x) for x in input().split()]\n",
    "intersection(m, li1 , n , li2)"
   ]
  },
  {
   "cell_type": "code",
   "execution_count": null,
   "metadata": {},
   "outputs": [],
   "source": [
    "def intersection(m,li1,n, li2):\n",
    "    for i in range(m):\n",
    "        for j in range(n):\n",
    "            if li1[i] == li2[j]:\n",
    "                print(li2[j])\n",
    "                li2[j] = j - 1000\n",
    "                break\n",
    "        \n",
    "m = int(input())\n",
    "li1 = [int(x) for x in input().split()]\n",
    "n = int(input())\n",
    "li2 = [int(x) for x in input().split()]\n",
    "intersection(m,li1,n, li2)"
   ]
  },
  {
   "cell_type": "markdown",
   "metadata": {},
   "source": [
    "#### 4. Given a random integer array A and a number x. Find and print the pair of elements in the array which sum to x.\n",
    "###### Array A can contain duplicate elements.\n",
    "###### While printing a pair, print the smaller element first.\n",
    "###### That is, if a valid pair is (6, 5) print \"5 6\". There is no constraint that out of 5 pairs which have to be printed in 1st line. You can print pairs in any order, just be careful about the order of elements in a pair.\n",
    "Input format :\n",
    "###### Line 1 : Integer N (Array size)\n",
    "###### Line 2 : Array elements (separated by space)\n",
    "###### Line 3 : Integer x\n",
    "Output format :\n",
    "###### Line 1 : Pair 1 elements (separated by space)\n",
    "###### Line 2 : Pair 2 elements (separated by space)\n",
    "###### Line 3 : and so on\n",
    "Constraints :\n",
    "###### 1 <= N <= 1000\n",
    "###### 1 <= x <= 100\n",
    "Sample Input:\n",
    "##### 9\n",
    "##### 1 3 6 2 5 4 3 2 4\n",
    "##### 7\n",
    "Sample Output :\n",
    "##### 1 6\n",
    "##### 3 4\n",
    "##### 3 4\n",
    "##### 2 5\n",
    "##### 2 5\n",
    "##### 3 4\n",
    "##### 3 4"
   ]
  },
  {
   "cell_type": "code",
   "execution_count": null,
   "metadata": {},
   "outputs": [],
   "source": [
    "def sumisele(A, ele, n):\n",
    "    for i in range(n):\n",
    "        for j in range(i+1,n):\n",
    "            if A[i]+ A[j] == ele:\n",
    "                if A[i] < A[j]:\n",
    "                    print(A[i], A[j])\n",
    "                elif A[i] > A[j]:\n",
    "                    print(A[j], A[i])\n",
    "                \n",
    "n = int(input())\n",
    "A = [int(x) for x in input().split()]\n",
    "ele = int(input())\n",
    "sumisele(A, ele, n)"
   ]
  },
  {
   "cell_type": "markdown",
   "metadata": {},
   "source": [
    "#### 5. Given a random integer array and a number x. Find and print the triplets of elements in the array which sum to x.\n",
    "While printing a triplet, print the smallest element first.\n",
    "###### That is, if a valid triplet is (6, 5, 10) print \"5 6 10\". There is no constraint that out of 5 triplets which have to be printed on 1st line. You can print triplets in any order, just be careful about the order of elements in a triplet.\n",
    "###### Input format :\n",
    "###### Line 1 : Integer N (Array Size)\n",
    "###### Line 2 : Array elements (separated by space)\n",
    "###### Line 3 : Integer x\n",
    "Output format :\n",
    "###### Line 1 : Triplet 1 elements (separated by space)\n",
    "###### Line 2 : Triplet 3 elements (separated by space)\n",
    "###### Line 3 : and so on\n",
    "Constraints :\n",
    "###### 1 <= N <= 1000\n",
    "###### 1 <= x <= 100\n",
    "Sample Input:\n",
    "##### 7\n",
    "##### 1 2 3 4 5 6 7 \n",
    "##### 12\n",
    "Sample Output ;\n",
    "##### 1 4 7\n",
    "##### 1 5 6\n",
    "##### 2 3 7\n",
    "##### 2 4 6\n",
    "##### 3 4 5"
   ]
  },
  {
   "cell_type": "code",
   "execution_count": null,
   "metadata": {},
   "outputs": [],
   "source": [
    "def sumisele(A, ele, n):\n",
    "    for i in range(n):\n",
    "        for j in range(i+1,n):\n",
    "            for k in range(j+1, n):\n",
    "                    if A[i]+ A[j]+ A[k] == ele:\n",
    "                        if A[i]>A[j]>A[k]:\n",
    "                            print(A[k],A[j],A[i])\n",
    "                        elif A[i]>A[k]>A[j]:\n",
    "                            print(A[j],A[k],A[i])\n",
    "                        elif A[j]>A[i]>A[k]:\n",
    "                            print(A[k],A[i],A[j])\n",
    "                        elif A[j]>A[k]>A[i]:\n",
    "                            print(A[i],A[k],A[j])\n",
    "                        elif A[k]>A[i]>A[j]:\n",
    "                            print(A[j],A[i],A[k])\n",
    "                        elif A[k]>A[j]>A[i]:\n",
    "                            print(A[i],A[j],A[k])\n",
    "                        elif A[i]==A[j]==A[k]:\n",
    "                            print(A[i],A[j],A[k])\n",
    "                        elif A[i]==A[j]>=A[k]:\n",
    "                            print(A[k], A[i], A[j])\n",
    "                        elif A[i]==A[k]>=A[j]:\n",
    "                            print(A[j],A[k],A[i])\n",
    "                        elif A[j]==A[k]>=A[i]:\n",
    "                            print(A[i], A[k], A[j])\n",
    "                        elif A[i]==A[j]<=A[k]:\n",
    "                            print(A[j], A[i], A[k])\n",
    "                        elif A[i]==A[k]<=A[j]:\n",
    "                            print(A[i],A[k],A[j])\n",
    "                        elif A[j]==A[k]<=A[i]:\n",
    "                            print(A[j], A[k], A[i])\n",
    "n = int(input())\n",
    "A = [int(x) for x in input().split()]\n",
    "ele = int(input())\n",
    "sumisele(A, ele, n)"
   ]
  },
  {
   "cell_type": "markdown",
   "metadata": {},
   "source": [
    "#### 6. You are given an integer array A that contains only integers 0 and 1. Write a function to sort this array. Find a solution which scans the array only once. Don't use extra array.\n",
    "You need to change in the given array itself. So no need to return or print anything.\n",
    "###### Input format :\n",
    "###### Line 1 : Integer N (Array Size)\n",
    "###### Line 2 : Array elements (separated by space)\n",
    "Output format :\n",
    "###### Sorted array elements\n",
    "Constraints :\n",
    "###### 1 <= N <= 10^6\n",
    "Sample Input :\n",
    "##### 7\n",
    "##### 0 1 1 0 1 0 1\n",
    "Sample Output :\n",
    "##### 0 0 0 1 1 1 1"
   ]
  },
  {
   "cell_type": "code",
   "execution_count": null,
   "metadata": {},
   "outputs": [],
   "source": [
    "def sort(A, n): \n",
    "    j = -1\n",
    "    for i in range(n):  \n",
    "        if A[i] < 1: \n",
    "            j = j + 1 \n",
    "            A[i], A[j] = A[j], A[i] \n",
    "        \n",
    "n = int(input())\n",
    "A = [int(x) for x in input().split()]\n",
    "sort(A,n)\n",
    "print(A)"
   ]
  },
  {
   "cell_type": "markdown",
   "metadata": {},
   "source": [
    "## `Array & Lists`"
   ]
  },
  {
   "cell_type": "markdown",
   "metadata": {},
   "source": [
    "### During Lecture"
   ]
  },
  {
   "cell_type": "markdown",
   "metadata": {},
   "source": [
    "#### 1. Binary Searching\n",
    "Given a sorted integer array (in ascending order) and an element x. You need to search this element x in the given input array using binary search. Return the index of element in the input."
   ]
  },
  {
   "cell_type": "code",
   "execution_count": null,
   "metadata": {},
   "outputs": [],
   "source": [
    "def binarysearch(A, ele, n):\n",
    "    start = 0\n",
    "    stop = n -1\n",
    "    while start < stop:\n",
    "        mid = (start+stop)//2\n",
    "        if A[mid] == ele:\n",
    "            return mid\n",
    "        elif A[mid] < ele:\n",
    "            start = mid + 1\n",
    "        else:\n",
    "            stop = mid - 1\n",
    "    return -1\n",
    "n = int(input())\n",
    "A = [int(x) for x in input().split()]\n",
    "ele = int(input())\n",
    "index=binarysearch(A, ele, n)\n",
    "print(index)"
   ]
  },
  {
   "cell_type": "markdown",
   "metadata": {},
   "source": [
    "#### 2. Bubble Sorting\n",
    "Given a random integer array. Sort this array using bubble sort."
   ]
  },
  {
   "cell_type": "code",
   "execution_count": null,
   "metadata": {},
   "outputs": [],
   "source": [
    "def bubblesort(A,n):\n",
    "    for j in range(n):\n",
    "        lenth = n\n",
    "        for i in range(lenth-1):\n",
    "            if A[i]>A[i+1]:\n",
    "                A[i],A[i+1]=A[i+1],A[i]\n",
    "            lenth = lenth -1\n",
    "n = int(input())\n",
    "A = [int(x) for x in input().split()]\n",
    "bubblesort(A,n)\n",
    "print(A)"
   ]
  },
  {
   "cell_type": "markdown",
   "metadata": {},
   "source": [
    "#### 3. Insertion Sorting \n",
    "Given a random integer array. Sort this array using insertion sort."
   ]
  },
  {
   "cell_type": "code",
   "execution_count": null,
   "metadata": {},
   "outputs": [],
   "source": [
    "def insertionsorting(A, n):\n",
    "    for i in range(1, n):\n",
    "        j = i - 1\n",
    "        temp = A[i]\n",
    "        while j >= 0 and A[j]>temp:\n",
    "            A[j+1]=A[j]\n",
    "            j = j -1\n",
    "        A[j+1]=temp\n",
    "        \n",
    "n = int(input())\n",
    "A = [int(x) for x in input().split()]\n",
    "insertionsorting(A, n)\n",
    "for a in A:\n",
    "    print(a, end=\" \")"
   ]
  },
  {
   "cell_type": "markdown",
   "metadata": {},
   "source": [
    "#### 4. Merge Sorted Arrays\n",
    "Given two sorted arrays of Size M and N respectively, merge them into a third array such that the third array is also sorted."
   ]
  },
  {
   "cell_type": "code",
   "execution_count": null,
   "metadata": {},
   "outputs": [],
   "source": [
    "def mergesorted(A1, n, A2, m):\n",
    "    i = 0\n",
    "    j = 0\n",
    "    A3 = []\n",
    "    while i < n and j < m:\n",
    "        if A1[i]<A2[j]:\n",
    "            A3.append(A1[i])\n",
    "            i = i + 1\n",
    "        else:\n",
    "            A3.append(A2[j])\n",
    "            j = j + 1\n",
    "    while i < n:\n",
    "        A3.append(A1[i])\n",
    "        i = i + 1\n",
    "    while j < m:\n",
    "        A3.append(A2[j])\n",
    "        j = j + 1\n",
    "    return A3\n",
    "\n",
    "n = int(input())\n",
    "A1 = [int(x) for x in input().split()]\n",
    "m = int(input())\n",
    "A2 = [int(y) for y in input().split()]\n",
    "A3 = mergesorted(A1, n, A2, m)\n",
    "for a in A3:\n",
    "    print(a, end=\"  \")"
   ]
  },
  {
   "cell_type": "markdown",
   "metadata": {},
   "source": [
    "### Assignment"
   ]
  },
  {
   "cell_type": "markdown",
   "metadata": {},
   "source": [
    "#### 1. Push Zeros to end\n",
    "Given a random integer array, push all the zeros that are present to end of the array. The respective order of other elements should remain same.\n",
    "###### Change in the input array itself. You don't need to return or print elements. Don't use extra array.\n",
    "Note : You need to do this in one scan of array only.\n",
    "###### Input format :\n",
    "###### Line 1 : Integer N, Array Size\n",
    "###### Line 2 : Array elements (separated by space)\n",
    "Output Format :\n",
    "###### Array elements (separated by space)\n",
    "Constraints :\n",
    "###### 1 <= N <= 10^6\n",
    "Sample Input 1:\n",
    "##### 7\n",
    "##### 2 0 4 1 3 0 28\n",
    "Sample Output 1:\n",
    "##### 2 4 1 3 28 0 0\n",
    "Sample Input 2:\n",
    "##### 5\n",
    "##### 0 3 0 2 0\n",
    "Sample Output 2:\n",
    "##### 3 2 0 0 0"
   ]
  },
  {
   "cell_type": "code",
   "execution_count": null,
   "metadata": {},
   "outputs": [],
   "source": [
    "def sort(A,n):\n",
    "    k = 0\n",
    "    for i in range(n-1):\n",
    "        if A[i] != 0:\n",
    "            A[i],A[k]= A[k],A[i]\n",
    "            k = k + 1\n",
    "n = int(input())\n",
    "A = [int(x) for x in input().split()]\n",
    "sort(A,n)\n",
    "for a in A:\n",
    "    print(a, end=\" \")"
   ]
  },
  {
   "cell_type": "markdown",
   "metadata": {},
   "source": [
    "#### 2. Rotate array\n",
    "Given a random integer array of size n, write a function that rotates the given array by d elements (towards left)\n",
    "###### Change in the input array itself. You don't need to return or print elements.\n",
    "Input format :\n",
    "###### Line 1 : Integer n (Array Size)\n",
    "###### Line 2 : Array elements (separated by space)\n",
    "###### Line 3 : Integer d\n",
    "Output Format :\n",
    "###### Updated array elements (separated by space)\n",
    "Constraints :\n",
    "###### 1 <= N <= 1000\n",
    "###### 1 <= d <= N\n",
    "Sample Input :\n",
    "###### 7\n",
    "###### 1 2 3 4 5 6 7\n",
    "###### 2\n",
    "###### Sample Output :\n",
    "3 4 5 6 7 1 2"
   ]
  },
  {
   "cell_type": "code",
   "execution_count": null,
   "metadata": {},
   "outputs": [],
   "source": [
    "def rotate(A, d, n): \n",
    "    d = d % n \n",
    "    O = y(d, n) \n",
    "    for i in range(O):  \n",
    "        temp = A[i] \n",
    "        j = i \n",
    "        while 1: \n",
    "            k = j + d \n",
    "            if k >= n: \n",
    "                k = k - n \n",
    "            if k == i: \n",
    "                break\n",
    "            A[j] = A[k] \n",
    "            j = k \n",
    "        A[j] = temp \n",
    "\n",
    "def y(a, b): \n",
    "    if b == 0: \n",
    "        return a; \n",
    "    else: \n",
    "        return y(b, a % b) \n",
    "\n",
    "n = int(input())  \n",
    "A = [int(x) for x in input().split()] \n",
    "d = int(input())\n",
    "rotate(A, d, n) \n",
    "for a in A:\n",
    "    print (a, end =\" \")"
   ]
  },
  {
   "cell_type": "markdown",
   "metadata": {},
   "source": [
    "#### 3. Second Largest in array\n",
    "Given a random integer array of size n, find and return the second largest element present in the array.\n",
    "###### If n <= 1 or all elements are same in the array, return -2147483648 i.e. -2^31.\n",
    "Input format :\n",
    "###### Line 1 : Integer n (Array Size)\n",
    "###### Line 2 : Array elements (separated by space)\n",
    "Output Format :\n",
    "###### Second largest element\n",
    "Constraints :\n",
    "###### 1 <= N <= 10^6\n",
    "Sample Input 1:\n",
    "##### 7\n",
    "##### 2 13 4 1 3 6 28\n",
    "Sample Output 1:\n",
    "##### 13\n",
    "Sample Input 2:\n",
    "##### 5\n",
    "##### 9 3 6 2 9\n",
    "Sample Output 2:\n",
    "##### 6\n",
    "Sample Input 3:\n",
    "##### 2\n",
    "##### 6 6\n",
    "Sample Output 3:\n",
    "##### -2147483648"
   ]
  },
  {
   "cell_type": "code",
   "execution_count": null,
   "metadata": {},
   "outputs": [],
   "source": [
    "def secondlargest(A, n):\n",
    "    l = -2147483648\n",
    "    s = -2147483648\n",
    "    for i in range(n):\n",
    "        if A[i] > l:\n",
    "            s = l\n",
    "            l = A[i]\n",
    "        elif A[i]>s and A[i]!=l:\n",
    "            s = A[i]\n",
    "    print(s)\n",
    "n = int (input())\n",
    "A = [int(x) for x in input().split()]\n",
    "secondlargest(A, n)"
   ]
  },
  {
   "cell_type": "markdown",
   "metadata": {},
   "source": [
    "#### 4. Check array rotation\n",
    "###### Given an integer array, which is sorted (in increasing order) and has been rotated by some number k in clockwise direction. Find and return the k.\n",
    "Input format :\n",
    "###### Line 1 : Integer n (Array Size)\n",
    "###### Line 2 : Array elements (separated by space)\n",
    "Output Format :\n",
    "###### Integer k\n",
    "Constraints :\n",
    "###### 1 <= n <= 1000\n",
    "Sample Input 1:\n",
    "##### 6\n",
    "##### 5 6 1 2 3 4\n",
    "Sample Output 1:\n",
    "##### 2\n",
    "Sample Input 2:\n",
    "##### 5\n",
    "##### 3 6 8 9 10\n",
    "Sample Output 2:\n",
    "##### 0"
   ]
  },
  {
   "cell_type": "code",
   "execution_count": null,
   "metadata": {},
   "outputs": [],
   "source": [
    "def countRotations(A, n): \n",
    "    j = A[0] \n",
    "    for i in range(0, n):\n",
    "        if (j > A[i]): \n",
    "            j = A[i] \n",
    "            j_index = i \n",
    "            return j_index\n",
    "\n",
    "n = int (input())\n",
    "A = [int(x) for x in input().split()]\n",
    "countRotations(A, n)\n",
    "print(countRotations(A, n))"
   ]
  },
  {
   "cell_type": "markdown",
   "metadata": {},
   "source": [
    "#### 5. Sort 0 1 2\n",
    "###### You are given an integer array containing only 0s, 1s and 2s. Write a solution to sort this array using one scan only.\n",
    "###### You need to change in the given array itself. So no need to return or print anything.\n",
    "Input format :\n",
    "###### Line 1 : Integer n (Array Size)\n",
    "###### Line 2 : Array elements (separated by space)\n",
    "Output Format :\n",
    "###### Updated array elements (separated by space)\n",
    "Constraints :\n",
    "###### 1 <= n <= 10^6\n",
    "Sample Input:\n",
    "##### 7\n",
    "##### 0 1 2 0 2 0 1\n",
    "Sample Output:\n",
    "##### 0 0 0 1 1 2 2 "
   ]
  },
  {
   "cell_type": "code",
   "execution_count": null,
   "metadata": {},
   "outputs": [],
   "source": [
    "def sort(A,n): \n",
    "    lo = 0\n",
    "    hi = n - 1\n",
    "    mid = 0\n",
    "    while mid <= hi: \n",
    "        if A[mid] == 0: \n",
    "            A[lo], A[mid] = A[mid], A[lo] \n",
    "            lo = lo + 1\n",
    "            mid = mid + 1\n",
    "        elif A[mid] == 1: \n",
    "            mid = mid + 1\n",
    "        else: \n",
    "            A[mid], A[hi] = A[hi], A[mid]  \n",
    "            hi = hi - 1\n",
    "    return A \n",
    "n = int(input())\n",
    "A = [int(x) for x in input().split()]\n",
    "sort(A,n)\n",
    "for a in A:\n",
    "    print(a, end=\" \")"
   ]
  },
  {
   "cell_type": "markdown",
   "metadata": {},
   "source": [
    "#### 6. Sum of two arrays\n",
    "###### Two random integer arrays are given A1 and A2, in which numbers from 0 to 9 are present at every index (i.e. single digit integer is present at every index of both given arrays).\n",
    "###### You need to find sum of both the input arrays (like we add two integers) and put the result in another array i.e. output array (output arrays should also contain only single digits at every index).\n",
    "The size A1 & A2 can be different.\n",
    "###### Note : Output array size should be 1 more than the size of bigger array and place 0 at the 0th index if there is no carry. No need to print the elements of output array.\n",
    "Input format :\n",
    "###### Line 1 : Integer n1 (A1 Size)\n",
    "###### Line 2 : A1 elements (separated by space)\n",
    "###### Line 3 : Integer n2 (A2 Size)\n",
    "###### Line 4 : A2 elements (separated by space)\n",
    "Output Format :\n",
    "###### Output array elements (separated by space)\n",
    "Constraints :\n",
    "###### 1 <= n1, n2 <= 10^6\n",
    "Sample Input 1:\n",
    "##### 3\n",
    "##### 6 2 4\n",
    "##### 3\n",
    "##### 7 5 6\n",
    "Sample Output 1:\n",
    "##### 1 3 8 0\n",
    "Sample Input 2:\n",
    "##### 3\n",
    "##### 8 5 2\n",
    "##### 2\n",
    "##### 1 3\n",
    "Sample Output 2:\n",
    "##### 0 8 6 5"
   ]
  },
  {
   "cell_type": "code",
   "execution_count": null,
   "metadata": {},
   "outputs": [],
   "source": [
    "def sumof2array(A, B, n, m):\n",
    "    C = [int(z) for z in range(n+1)]\n",
    "    lenth = len(C)\n",
    "    carry = 0\n",
    "    i = n-1\n",
    "    j = m-1\n",
    "    k = lenth -1\n",
    "    while k > -1 and i>= -1 and j >=-1:\n",
    "       # num = 0 \n",
    "        if k <= m:\n",
    "            num = A[i] + B[j] + carry\n",
    "            C[k] = num % 10\n",
    "            carry = num // 10\n",
    "            i = i - 1\n",
    "            j = j - 1    \n",
    "        elif k > m :\n",
    "            num = A[i] + carry\n",
    "            C[k] = num % 10\n",
    "            carry = num // 10\n",
    "            i = i - 1\n",
    "        elif k == 0:\n",
    "            num = carry\n",
    "            C[k] = num % 10\n",
    "        #C[k] = num % 10\n",
    "        #carry = num // 10\n",
    "       # i = i - 1\n",
    "        #j = j - 1\n",
    "        k = k -1\n",
    "    return C\n",
    "n = int(input())\n",
    "A = [int(x) for x in input().split()]\n",
    "m = int(input())\n",
    "B = [int(y) for y in input().split()]\n",
    "C = sumof2array(A, B, n, m)\n",
    "for a in C:\n",
    "    print(a, end=\" \")"
   ]
  },
  {
   "cell_type": "code",
   "execution_count": null,
   "metadata": {},
   "outputs": [],
   "source": [
    "n = int(input())\n",
    "A = [int(x) for x in input().split()]\n",
    "m = int(input())\n",
    "B = [int(y) for y in input().split()]\n",
    "C = [int(z) for z in range(n+1)]\n",
    "lenth = len(C)\n",
    "num = A[1] + B[1] + carry\n",
    "carry = num // 10\n",
    "C[k] = num % 10\n",
    "for a in C:\n",
    "    print(a, end=\" \")"
   ]
  },
  {
   "cell_type": "code",
   "execution_count": null,
   "metadata": {},
   "outputs": [],
   "source": [
    "def calSumUtil( a , b , n , m ):\n",
    "    sum = [0] * (n+1) \n",
    "    i = n - 1\n",
    "    j = m - 1\n",
    "    k = n\n",
    "    carry = 0\n",
    "    s = 0\n",
    "    while j >= 0:\n",
    "        s = a[i] + b[j] + carry \n",
    "        sum[k] = (s % 10)\n",
    "        carry = s // 10\n",
    "        k-=1\n",
    "        i-=1\n",
    "        j-=1 \n",
    "    while i >= 0:\n",
    "        s = a[i] + carry \n",
    "        sum[k] = (s % 10) \n",
    "        carry = s // 10 \n",
    "        i-=1\n",
    "        k-=1\n",
    "    ans = 0 \n",
    "    if carry: \n",
    "        ans = 10 \n",
    "    for i in range(n): \n",
    "        ans += sum[i] \n",
    "        ans *= 10\n",
    "    return sum\n",
    "\n",
    "def calSum(a, b, n, m ): \n",
    "    if n >= m: \n",
    "        return calSumUtil(a, b, n, m) \n",
    "    else: \n",
    "        return calSumUtil(b, a, m, n) \n",
    "\n",
    "\n",
    "n = int(input())\n",
    "a = [int(x) for x in input().split()]\n",
    "m = int(input())\n",
    "b = [int(y) for y in input().split()]\n",
    "sum = calSum(a, b, n, m)\n",
    "for z in sum:\n",
    "    print(z, end= \" \") "
   ]
  },
  {
   "cell_type": "markdown",
   "metadata": {},
   "source": [
    "## `Strings`"
   ]
  },
  {
   "cell_type": "markdown",
   "metadata": {},
   "source": [
    "### During Lecture"
   ]
  },
  {
   "cell_type": "markdown",
   "metadata": {},
   "source": [
    "#### 1. Check Palindrome\n",
    "Given a String s, check it its palindrome. Return true if string is palindrome, else return false.\n",
    "###### Palindrome strings are those, where string s and its reverse is exactly same.\n",
    "Input Format :\n",
    "###### String S\n",
    "Output Format :\n",
    "###### \"true\" if S is palindrome, else \"false\"\n",
    "Sample Input 1 :\n",
    "##### abcdcba\n",
    "Sample Output 1 :\n",
    "##### true "
   ]
  },
  {
   "cell_type": "code",
   "execution_count": null,
   "metadata": {},
   "outputs": [],
   "source": [
    "def reverse(s): \n",
    "    return s[::-1] \n",
    "  \n",
    "def isPalindrome(s): \n",
    "    rev = reverse(s)  \n",
    "    if (s == rev): \n",
    "        return True\n",
    "    return False\n",
    "  \n",
    "s = input()\n",
    "ans = isPalindrome(s) \n",
    "if ans == 1: \n",
    "    print(\"true\") \n",
    "else: \n",
    "    print(\"false\")"
   ]
  },
  {
   "cell_type": "markdown",
   "metadata": {},
   "source": [
    "### Assignment"
   ]
  },
  {
   "cell_type": "markdown",
   "metadata": {},
   "source": [
    "#### 1. Check Permutation\n",
    "Given two strings, check if they are permutations of each other. Return true or false.\n",
    "###### Permutation means - length of both the strings should same and should contain same set of characters. Order of characters doesn't matter.\n",
    "###### Note : Input strings contain only lowercase english alphabets.\n",
    "Input format :\n",
    "###### Line 1 : String 1\n",
    "###### Line 2 : String 2\n",
    "Sample Input 1 :\n",
    "##### abcde\n",
    "##### baedc\n",
    "Sample Output 1 :\n",
    "##### true\n",
    "Sample Input 2 :\n",
    "##### abc\n",
    "##### cbd\n",
    "Sample Output 2 :\n",
    "##### false"
   ]
  },
  {
   "cell_type": "code",
   "execution_count": null,
   "metadata": {},
   "outputs": [],
   "source": [
    "def arePermutation(str1, str2):\n",
    "    n1 = len(str1) \n",
    "    n2 = len(str2)\n",
    "    if (n1 != n2): \n",
    "        return False \n",
    "    a = sorted(str1) \n",
    "    str1 = \" \".join(a) \n",
    "    b = sorted(str2) \n",
    "    str2 = \" \".join(b)\n",
    "    for i in range(0, n1, 1): \n",
    "        if (str1[i] != str2[i]): \n",
    "            return False\n",
    "        return True\n",
    "\n",
    "\n",
    "str1 = input()\n",
    "str2 = input()\n",
    "if (arePermutation(str1, str2)): \n",
    "    print(\"true\") \n",
    "else: \n",
    "    print(\"false\")"
   ]
  },
  {
   "cell_type": "markdown",
   "metadata": {},
   "source": [
    "#### 2. Remove Consecutive Duplicates\n",
    "Given a string, remove all the consecutive duplicates that are present in the given string. That means, if 'aaa' is present in the string then it should become 'a' in the output string.\n",
    "###### Sample Input:\n",
    "##### aabccbaa\n",
    "###### Sample Output:\n",
    "##### abcba"
   ]
  },
  {
   "cell_type": "code",
   "execution_count": null,
   "metadata": {},
   "outputs": [],
   "source": [
    "def removeDuplicates(S):       \n",
    "    n = len(S)  \n",
    "    if (n < 2) : \n",
    "        return\n",
    "    j = 0  \n",
    "    for i in range(n):  \n",
    "        if (S[j] != S[i]): \n",
    "            j += 1\n",
    "            S[j] = S[i]  \n",
    "    j += 1\n",
    "    S = S[:j] \n",
    "    return S \n",
    "               \n",
    "S = input()\n",
    "S = list(S.rstrip()) \n",
    "S = removeDuplicates(S)  \n",
    "print(*S, sep = \"\")   "
   ]
  },
  {
   "cell_type": "markdown",
   "metadata": {},
   "source": [
    "#### 3. Reverse Each Word\n",
    "###### Given a string S, reverse each word of a string individually. For eg. if a string is \"abc def\", reversed string should be \"cba fed\".\n",
    "Input Format :\n",
    "###### String S\n",
    "Output Format :\n",
    "###### Updated string\n",
    "Constraints :\n",
    "###### 1 <= Length of S <= 1000\n",
    "Sample Input :\n",
    "##### Welcome to Coding Ninjas\n",
    "Sample Output:\n",
    "##### emocleW ot gnidoC sajniN"
   ]
  },
  {
   "cell_type": "code",
   "execution_count": null,
   "metadata": {},
   "outputs": [],
   "source": [
    "def reverserWords(str): \n",
    "    st = list() \n",
    "    for i in range(len(str)): \n",
    "        if str[i] != \" \": \n",
    "            st.append(str[i]) \n",
    "        else: \n",
    "            while len(st) > 0: \n",
    "                print(st[-1], end= \"\") \n",
    "                st.pop() \n",
    "            print(end = \" \")\n",
    "    while len(st) > 0: \n",
    "        print(st[-1], end = \"\") \n",
    "        st.pop() \n",
    "\n",
    "str = input()\n",
    "reverserWords(str) "
   ]
  },
  {
   "cell_type": "markdown",
   "metadata": {},
   "source": [
    "#### 4. Remove character\n",
    "###### Given a string and a character x. Write a function to remove all occurrences of x character from the given string.\n",
    "Leave the string as it is, if the given character is not present in the string.\n",
    "###### Input format :\n",
    "\n",
    "###### Line 1 : Input string\n",
    "\n",
    "###### Line 2 : Character x\n",
    "\n",
    "Sample Input :\n",
    "##### welcome to coding ninjas\n",
    "##### o\n",
    "Sample Output :\n",
    "##### welcme t cding ninjas"
   ]
  },
  {
   "cell_type": "code",
   "execution_count": null,
   "metadata": {},
   "outputs": [],
   "source": [
    "def removeChar(s, c) :\n",
    "    counts = s.count(c)\n",
    "    s = list(s)\n",
    "    while counts :\n",
    "        s.remove(c) \n",
    "        counts -= 1  \n",
    "    s = '' . join(s) \n",
    "    print(s) \n",
    "\n",
    "str = input()\n",
    "char = input()\n",
    "removeChar(str,char) "
   ]
  },
  {
   "cell_type": "markdown",
   "metadata": {},
   "source": [
    "#### 5. Highest Occuring Character\n",
    "###### Given a string, find and return the highest occurring character present in the given string.\n",
    "If there are 2 characters in the input string with same frequency, return the character which comes first.\n",
    "###### Note : Assume all the characters in the given string are lowercase.\n",
    "Sample Input 1:\n",
    "##### abdefgbabfba\n",
    "Sample Output 1:\n",
    "##### b\n",
    "Sample Input 2:\n",
    "##### xy\n",
    "Sample Output 2:\n",
    "##### x"
   ]
  },
  {
   "cell_type": "code",
   "execution_count": null,
   "metadata": {},
   "outputs": [],
   "source": [
    "ASCII_SIZE = 256\n",
    "def getMaxOccuringChar(str):\n",
    "    count = [0] * ASCII_SIZE\n",
    "    max = -1\n",
    "    c = '' \n",
    "    for i in str: \n",
    "        count[ord(i)]+=1; \n",
    "    for i in str: \n",
    "        if max < count[ord(i)]: \n",
    "            max = count[ord(i)] \n",
    "            c = i \n",
    "    return c \n",
    "  \n",
    "\n",
    "str = input()\n",
    "print(getMaxOccuringChar(str))"
   ]
  },
  {
   "cell_type": "markdown",
   "metadata": {},
   "source": [
    "#### 6. Compress the String\n",
    "###### Write a program to do basic string compression. For a character which is consecutively repeated more than once, replace consecutive duplicate occurrences with the count of repetitions.\n",
    "For e.g. if a String has 'x' repeated 5 times, replace this \"xxxxx\" with \"x5\".\n",
    "###### Note : Consecutive count of every character in input string is less than equal to 9.\n",
    "Input Format :\n",
    "###### Input string S\n",
    "Output Format :\n",
    "###### Compressed string \n",
    "Sample Input:\n",
    "##### aaabbccdsa\n",
    "Sample Output:\n",
    "##### a3b2c2dsa"
   ]
  },
  {
   "cell_type": "code",
   "execution_count": 34,
   "metadata": {},
   "outputs": [
    {
     "name": "stdout",
     "output_type": "stream",
     "text": [
      "abbbbssssaa\n",
      "ab4s4a2\n"
     ]
    }
   ],
   "source": [
    "def ab(a):\n",
    "    i=0\n",
    "    x=''\n",
    "    while(i<len(a)):\n",
    "        j=i+1\n",
    "        c=1\n",
    "        while j<len(a) and (a[i]==a[j]):\n",
    "            j+=1\n",
    "            c+=1\n",
    "        if c==1:\n",
    "            x+=a[i]\n",
    "        else:\n",
    "            x+=a[i]+str(c)\n",
    "        i=j\n",
    "    return x\n",
    "a=input()\n",
    "print(ab(a))"
   ]
  },
  {
   "cell_type": "markdown",
   "metadata": {},
   "source": [
    "## Two Dimensional Lists"
   ]
  },
  {
   "cell_type": "markdown",
   "metadata": {},
   "source": [
    "### During Lecture"
   ]
  },
  {
   "cell_type": "markdown",
   "metadata": {},
   "source": [
    "#### 1. Row Wise Sum\n",
    "###### Given a 2D integer array of size M*N, find and print the sum of ith row elements separated by space.\n",
    "Input Format :\n",
    "###### Line 1 : Two integers M and N (separated by space) \n",
    "###### Line 2 : Matrix elements of each row (separated by space)\n",
    "Output Format :\n",
    "###### Sum of every ith row elements (separated by space)\n",
    "Constraints :\n",
    "##### 1 <= M, N <= 10^3\n",
    "Sample Input :\n",
    "##### 4 2 \n",
    "##### 1 2 3 4 5 6 7 8\n",
    "Sample Output :\n",
    "##### 3 7 11 15 "
   ]
  },
  {
   "cell_type": "code",
   "execution_count": null,
   "metadata": {},
   "outputs": [],
   "source": [
    "def row_sum(arr) :\n",
    "    l = []\n",
    "    sum = 0\n",
    "    for i in range(n) : \n",
    "        for j in range(m) :  \n",
    "            sum += arr[i][j] \n",
    "        l.append(sum) \n",
    "        sum = 0\n",
    "    for a in l:\n",
    "        print(a, end=\" \")\n",
    "\n",
    "str = input().split()\n",
    "n,m = int(str[0]),int(str[1])\n",
    "b = input().split()\n",
    "arr = [[int(b[m*i+j]) for j in range(m)] for i in range(n)]\n",
    "row_sum(arr) "
   ]
  },
  {
   "cell_type": "markdown",
   "metadata": {},
   "source": [
    "#### 2. Largest Row or Column\n",
    "###### Given an NxM 2D array, you need to find out which row or column has largest sum (sum of its elements) overall amongst all rows and columns.\n",
    "Input Format :\n",
    "###### Line 1 : 2 integers N and M respectively, separated by space \n",
    "###### Line 2: Single line having N*M elements entered in row wise manner, each separated by space.\n",
    "Output Format :\n",
    "###### If row sum is maximum then - \"row\" row_num max_sum\n",
    "###### If column sum is maximum then - \"column\" col_num max_sum\n",
    "###### Note : If there are more than one rows/columns with maximum sum consider the row/column that comes first. And if ith row and jth column has same sum (which is largest), consider the ith row as answer.\n",
    "Sample Input 1 :\n",
    "##### 2 2 \n",
    "##### 1 1 1 1\n",
    "Sample Output 1 :\n",
    "##### row 0 2\n",
    "Sample Input 2 :\n",
    "##### 3 3\n",
    "##### 3 6 9 1 4 7 2 8 9\n",
    "Sample Output 2 :\n",
    "##### column 2 25"
   ]
  },
  {
   "cell_type": "code",
   "execution_count": null,
   "metadata": {},
   "outputs": [],
   "source": [
    "def largestcollumn(li):\n",
    "    n = len(li)\n",
    "    m = len(li[0])\n",
    "    sum_max = -1\n",
    "    index_max = -1\n",
    "    for j in range(m):\n",
    "        sum = 0\n",
    "        for i in range(n):\n",
    "            sum += li[i][j]\n",
    "        if sum > sum_max:\n",
    "            index_max = j\n",
    "            sum_max = sum\n",
    "    return sum_max,index_max\n",
    "\n",
    "def largestrow(li):\n",
    "    n = len(li)\n",
    "    m = len(li[0])\n",
    "    sum_max = -1\n",
    "    index_max = -1\n",
    "    for j in range(n):\n",
    "        sum = 0\n",
    "        for i in range(m):\n",
    "            sum += li[j][i]\n",
    "        if sum > sum_max:\n",
    "            index_max = j\n",
    "            sum_max = sum\n",
    "    return sum_max,index_max\n",
    "        \n",
    "str = input().split()\n",
    "n,m = int(str[0]),int(str[1])\n",
    "b = input().split()\n",
    "li = [[int(b[m*i+j]) for j in range(m)] for i in range(n)]\n",
    "collumn_sum,collumn_index = largestcollumn(li)\n",
    "row_sum,row_index = largestrow(li)\n",
    "if collumn_sum < row_sum:\n",
    "    print(\"row\",row_index,row_sum)\n",
    "elif collumn_sum > row_sum:\n",
    "    print(\"column\",collumn_index,collumn_sum)\n",
    "else:\n",
    "    print(\"row\",row_index,row_sum)"
   ]
  },
  {
   "cell_type": "markdown",
   "metadata": {},
   "source": [
    "#### 3. Wave Print\n",
    "###### Given a two dimensional n*m array, print the array in a sine wave order. i.e. print the first column top to bottom, next column bottom to top and so on.\n",
    "###### Note : Print the elements separated by space.\n",
    "Input format :\n",
    "###### n, m, array elements (separated by space)\n",
    "Sample Input :\n",
    "##### 3 4 1  2  3  4 5  6  7  8 9 10 11 12\n",
    "Sample Output :\n",
    "##### 1 5 9 10 6 2 3 7 11 12 8 4"
   ]
  },
  {
   "cell_type": "code",
   "execution_count": null,
   "metadata": {},
   "outputs": [],
   "source": [
    "def sortInWave(li, n, m): \n",
    "    temp = []\n",
    "    for j in range(m):\n",
    "        if j % 2 == 0:\n",
    "            for i in range(n):\n",
    "                temp.append(li[i][j])\n",
    "        else:\n",
    "            for i in range(n-1, -1, -1):\n",
    "                temp.append(li[i][j])\n",
    "    return temp\n",
    "\n",
    "str = input().split()\n",
    "n,m = int(str[0]), int(str[1])\n",
    "b = str[2:]\n",
    "li = [[int(b[m*i+j]) for j in range(m)] for i in range(n)]\n",
    "temp = sortInWave(li, n, m ) \n",
    "for i in temp:\n",
    "    print(i, end = \" \")\n",
    "    "
   ]
  },
  {
   "cell_type": "markdown",
   "metadata": {},
   "source": [
    "#### 4. Spiral Print\n",
    "###### Given an N*M 2D array, print it in spiral form. That is, first you need to print the 1st row, then last column, then last row and then first column and so on.\n",
    "###### Print every element only once.\n",
    "Input format :\n",
    "###### Line 1 : N and M, No. of rows & No. of columns (separated by space) followed by N*M  elements in row wise fashion.\n",
    "Sample Input :\n",
    "##### 4 4 1 2 3 4 5 6 7 8 9 10 11 12 13 14 15 16\n",
    "Sample Output :\n",
    "##### 1 2 3 4 8 12 16 15 14 13 9 5 6 7 11 10 "
   ]
  },
  {
   "cell_type": "code",
   "execution_count": null,
   "metadata": {},
   "outputs": [],
   "source": [
    "def spiralPrint(n, m, a) : \n",
    "    k = 0\n",
    "    l = 0\n",
    "    while (k < m and l < n) :  \n",
    "        for i in range(l, n) : \n",
    "            print(a[k][i], end = \" \") \n",
    "        k += 1  \n",
    "        for i in range(k, m) : \n",
    "            print(a[i][n-1], end = \" \") \n",
    "        n -= 1\n",
    "        if ( k < m) : \n",
    "            for i in range(n - 1, (l - 1), -1) : \n",
    "                print(a[m - 1][i], end = \" \")\n",
    "            m -= 1 \n",
    "        if (l < n) : \n",
    "            for i in range(m - 1, k - 1, -1) : \n",
    "                print(a[i][l], end = \" \") \n",
    "            l += 1\n",
    "\n",
    "str = input().split()\n",
    "n,m = int(str[0]), int(str[1])\n",
    "b = str[2:]\n",
    "a = [[int(b[m*i+j]) for j in range(m)] for i in range(n)]\n",
    "if n>m:\n",
    "    p = n\n",
    "    q = m\n",
    "elif n < m:\n",
    "    p = m\n",
    "    q = n\n",
    "elif n == m:\n",
    "    p = n  \n",
    "    q = m\n",
    "spiralPrint(p, q, a) "
   ]
  },
  {
   "cell_type": "code",
   "execution_count": null,
   "metadata": {},
   "outputs": [],
   "source": [
    "def spiralMatrixPrint(row, col, arr):\n",
    "    top = 0\n",
    "    bottom = row-1\n",
    "    left = 0\n",
    "    right = col - 1\n",
    "    dir = 0\n",
    "    while (top <= bottom and left <=right):    \n",
    "        if dir ==0:\n",
    "            for i in range(left,right+1): # moving left to right\n",
    "                print (arr[top][i], end=\" \")\n",
    "            top +=1\n",
    "            dir = 1\n",
    "\n",
    "        elif dir ==1:\n",
    "            for i in range(top,bottom+1): # moving top to bottom\n",
    "                print (arr[i][right], end=\" \")\n",
    "            right -=1 \n",
    "            dir = 2\n",
    "            \n",
    "        elif dir ==2:\n",
    "            for i in range(right,left-1,-1): # moving right to left\n",
    "                print (arr[bottom][i], end=\" \")\n",
    "            bottom -=1\n",
    "            dir = 3\n",
    "            \n",
    "        elif dir ==3:\n",
    "            for i in range(bottom,top-1,-1): # moving bottom to top\n",
    "                print (arr[i][left], end=\" \")\n",
    "            left +=1\n",
    "            dir = 0\n",
    "\n",
    "str = input().split()\n",
    "n,m = int(str[0]), int(str[1])\n",
    "b = str[2:]\n",
    "a = [[int(b[m*i+j]) for j in range(m)] for i in range(n)]\n",
    "spiralMatrixPrint(n, m, a)"
   ]
  }
 ],
 "metadata": {
  "kernelspec": {
   "display_name": "Python 3",
   "language": "python",
   "name": "python3"
  },
  "language_info": {
   "codemirror_mode": {
    "name": "ipython",
    "version": 3
   },
   "file_extension": ".py",
   "mimetype": "text/x-python",
   "name": "python",
   "nbconvert_exporter": "python",
   "pygments_lexer": "ipython3",
   "version": "3.7.6"
  }
 },
 "nbformat": 4,
 "nbformat_minor": 4
}
